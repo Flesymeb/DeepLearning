{
 "cells": [
  {
   "cell_type": "code",
   "execution_count": 20,
   "id": "initial_id",
   "metadata": {
    "collapsed": true,
    "ExecuteTime": {
     "end_time": "2024-02-27T12:49:18.930801Z",
     "start_time": "2024-02-27T12:49:18.920253Z"
    }
   },
   "outputs": [],
   "source": [
    "import torch"
   ]
  },
  {
   "cell_type": "markdown",
   "source": [
    "导入Pytorch库"
   ],
   "metadata": {
    "collapsed": false
   },
   "id": "1ac1daa5e0674729"
  },
  {
   "cell_type": "code",
   "outputs": [
    {
     "name": "stdout",
     "output_type": "stream",
     "text": [
      "True\n",
      "2.2.1\n"
     ]
    }
   ],
   "source": [
    "print(torch.cuda.is_available())\n",
    "print(torch.__version__)"
   ],
   "metadata": {
    "collapsed": false,
    "ExecuteTime": {
     "end_time": "2024-02-27T12:49:18.961679Z",
     "start_time": "2024-02-27T12:49:18.954615Z"
    }
   },
   "id": "ed9eb0c1d496da87",
   "execution_count": 21
  },
  {
   "cell_type": "markdown",
   "source": [
    "检查环境配置"
   ],
   "metadata": {
    "collapsed": false
   },
   "id": "7df67f02448d8bdf"
  },
  {
   "cell_type": "markdown",
   "source": [],
   "metadata": {
    "collapsed": false
   },
   "id": "d77ff3814b068fed"
  },
  {
   "cell_type": "code",
   "outputs": [
    {
     "name": "stdout",
     "output_type": "stream",
     "text": [
      "tensor([ 0,  1,  2,  3,  4,  5,  6,  7,  8,  9, 10, 11])\n"
     ]
    },
    {
     "data": {
      "text/plain": "torch.Size([12])"
     },
     "execution_count": 22,
     "metadata": {},
     "output_type": "execute_result"
    }
   ],
   "source": [
    "x=torch.arange(12)\n",
    "print(x)\n",
    "x.shape"
   ],
   "metadata": {
    "collapsed": false,
    "ExecuteTime": {
     "end_time": "2024-02-27T12:49:18.977900Z",
     "start_time": "2024-02-27T12:49:18.963678Z"
    }
   },
   "id": "623d37b542946aa8",
   "execution_count": 22
  },
  {
   "cell_type": "code",
   "outputs": [
    {
     "name": "stdout",
     "output_type": "stream",
     "text": [
      "12\n"
     ]
    }
   ],
   "source": [
    "x.numel()\n",
    "print(x.numel())"
   ],
   "metadata": {
    "collapsed": false,
    "ExecuteTime": {
     "end_time": "2024-02-27T12:49:18.993563Z",
     "start_time": "2024-02-27T12:49:18.979426Z"
    }
   },
   "id": "312e9cb90446de28",
   "execution_count": 23
  },
  {
   "cell_type": "code",
   "outputs": [
    {
     "data": {
      "text/plain": "tensor([[[ 0,  1],\n         [ 2,  3],\n         [ 4,  5]],\n\n        [[ 6,  7],\n         [ 8,  9],\n         [10, 11]]])"
     },
     "execution_count": 24,
     "metadata": {},
     "output_type": "execute_result"
    }
   ],
   "source": [
    "X2=x.reshape(3,4)\n",
    "X2\n",
    "X3=x.reshape(2,3,2)\n",
    "X3"
   ],
   "metadata": {
    "collapsed": false,
    "ExecuteTime": {
     "end_time": "2024-02-27T12:49:19.008737Z",
     "start_time": "2024-02-27T12:49:18.995069Z"
    }
   },
   "id": "8b8da39e21f9dcd7",
   "execution_count": 24
  },
  {
   "cell_type": "code",
   "outputs": [
    {
     "data": {
      "text/plain": "tensor([[0., 0., 0., 0.],\n        [0., 0., 0., 0.],\n        [0., 0., 0., 0.]])"
     },
     "execution_count": 25,
     "metadata": {},
     "output_type": "execute_result"
    }
   ],
   "source": [
    "torch.zeros(3,4)"
   ],
   "metadata": {
    "collapsed": false,
    "ExecuteTime": {
     "end_time": "2024-02-27T12:49:19.024944Z",
     "start_time": "2024-02-27T12:49:19.011106Z"
    }
   },
   "id": "5a4b6f7690fe5d28",
   "execution_count": 25
  },
  {
   "cell_type": "code",
   "outputs": [
    {
     "data": {
      "text/plain": "tensor([[[1., 1., 1., 1.],\n         [1., 1., 1., 1.],\n         [1., 1., 1., 1.]],\n\n        [[1., 1., 1., 1.],\n         [1., 1., 1., 1.],\n         [1., 1., 1., 1.]]])"
     },
     "execution_count": 26,
     "metadata": {},
     "output_type": "execute_result"
    }
   ],
   "source": [
    "torch.ones((2,3,4))"
   ],
   "metadata": {
    "collapsed": false,
    "ExecuteTime": {
     "end_time": "2024-02-27T12:49:19.040417Z",
     "start_time": "2024-02-27T12:49:19.025948Z"
    }
   },
   "id": "cf8a667e28d3d2c5",
   "execution_count": 26
  },
  {
   "cell_type": "code",
   "outputs": [
    {
     "data": {
      "text/plain": "tensor([[ 0.0295, -0.6905,  1.6370, -1.4367],\n        [-0.6971, -0.3004, -1.3692,  1.4854],\n        [-0.4677,  1.8740,  1.1857, -0.5734]])"
     },
     "execution_count": 27,
     "metadata": {},
     "output_type": "execute_result"
    }
   ],
   "source": [
    "torch.randn(3,4)"
   ],
   "metadata": {
    "collapsed": false,
    "ExecuteTime": {
     "end_time": "2024-02-27T12:49:19.055681Z",
     "start_time": "2024-02-27T12:49:19.041437Z"
    }
   },
   "id": "74a780a1039a1d7f",
   "execution_count": 27
  },
  {
   "cell_type": "markdown",
   "source": [
    "代码创建一个形状为（3,4）的张量。 其中的每个元素都从均值为0、标准差为1的标准高斯分布（正态分布）中随机采样。"
   ],
   "metadata": {
    "collapsed": false
   },
   "id": "6cd2c4e3c4371812"
  },
  {
   "cell_type": "code",
   "outputs": [
    {
     "data": {
      "text/plain": "(tensor([ 3.,  4.,  6., 10.]),\n tensor([-1.,  0.,  2.,  6.]),\n tensor([ 2.,  4.,  8., 16.]),\n tensor([0.5000, 1.0000, 2.0000, 4.0000]),\n tensor([ 1.,  4., 16., 64.]))"
     },
     "execution_count": 28,
     "metadata": {},
     "output_type": "execute_result"
    }
   ],
   "source": [
    "x=torch.tensor([1.0,2,4,8])\n",
    "y=torch.tensor([2,2,2,2])\n",
    "x+y,x-y,x*y,x/y,x**y"
   ],
   "metadata": {
    "collapsed": false,
    "ExecuteTime": {
     "end_time": "2024-02-27T12:49:19.070877Z",
     "start_time": "2024-02-27T12:49:19.057188Z"
    }
   },
   "id": "3bac07b1144400c8",
   "execution_count": 28
  },
  {
   "cell_type": "code",
   "outputs": [
    {
     "data": {
      "text/plain": "tensor([2.7183e+00, 7.3891e+00, 5.4598e+01, 2.9810e+03])"
     },
     "execution_count": 29,
     "metadata": {},
     "output_type": "execute_result"
    }
   ],
   "source": [
    "torch.exp(x)"
   ],
   "metadata": {
    "collapsed": false,
    "ExecuteTime": {
     "end_time": "2024-02-27T12:49:49.169761Z",
     "start_time": "2024-02-27T12:49:49.150171Z"
    }
   },
   "id": "e7b66afcae932792",
   "execution_count": 29
  },
  {
   "cell_type": "code",
   "outputs": [
    {
     "data": {
      "text/plain": "(tensor([[ 0.,  1.,  2.,  3.],\n         [ 4.,  5.,  6.,  7.],\n         [ 8.,  9., 10., 11.],\n         [ 2.,  1.,  4.,  3.],\n         [ 1.,  2.,  3.,  4.],\n         [ 4.,  3.,  2.,  1.]]),\n tensor([[ 0.,  1.,  2.,  3.,  2.,  1.,  4.,  3.],\n         [ 4.,  5.,  6.,  7.,  1.,  2.,  3.,  4.],\n         [ 8.,  9., 10., 11.,  4.,  3.,  2.,  1.]]))"
     },
     "execution_count": 30,
     "metadata": {},
     "output_type": "execute_result"
    }
   ],
   "source": [
    "X=torch.arange(12,dtype=torch.float32).reshape(3,4)\n",
    "Y=torch.tensor([[2.0,1,4,3],[1,2,3,4],[4,3,2,1]])\n",
    "torch.cat((X,Y),dim=0),torch.cat((X,Y),dim=1)"
   ],
   "metadata": {
    "collapsed": false,
    "ExecuteTime": {
     "end_time": "2024-02-27T12:54:28.221278Z",
     "start_time": "2024-02-27T12:54:28.199083Z"
    }
   },
   "id": "31c46839688905a4",
   "execution_count": 30
  },
  {
   "cell_type": "code",
   "outputs": [
    {
     "data": {
      "text/plain": "tensor([[False,  True, False,  True],\n        [False, False, False, False],\n        [False, False, False, False]])"
     },
     "execution_count": 31,
     "metadata": {},
     "output_type": "execute_result"
    }
   ],
   "source": [
    "X==Y"
   ],
   "metadata": {
    "collapsed": false,
    "ExecuteTime": {
     "end_time": "2024-02-27T12:56:00.631730Z",
     "start_time": "2024-02-27T12:56:00.625394Z"
    }
   },
   "id": "a1240201395a214f",
   "execution_count": 31
  },
  {
   "cell_type": "markdown",
   "source": [
    "有时，我们想通过逻辑运算符构建二元张量。 以X == Y为例： 对于每个位置，如果X和Y在该位置相等，则新张量中相应项的值为1。 这意味着逻辑语句X == Y在该位置处为真，否则该位置为0。"
   ],
   "metadata": {
    "collapsed": false
   },
   "id": "2c38d6b66fbadd39"
  },
  {
   "cell_type": "code",
   "outputs": [
    {
     "data": {
      "text/plain": "tensor(66.)"
     },
     "execution_count": 32,
     "metadata": {},
     "output_type": "execute_result"
    }
   ],
   "source": [
    "X.sum()"
   ],
   "metadata": {
    "collapsed": false,
    "ExecuteTime": {
     "end_time": "2024-02-27T12:59:26.407020Z",
     "start_time": "2024-02-27T12:59:26.389314Z"
    }
   },
   "id": "70ef5a242efd90bc",
   "execution_count": 32
  },
  {
   "cell_type": "code",
   "outputs": [],
   "source": [],
   "metadata": {
    "collapsed": false
   },
   "id": "bc7961857af50e54"
  },
  {
   "cell_type": "markdown",
   "source": [
    "广播机制\n"
   ],
   "metadata": {
    "collapsed": false
   },
   "id": "b4146817ca452168"
  },
  {
   "cell_type": "code",
   "outputs": [
    {
     "data": {
      "text/plain": "(tensor([[0],\n         [1],\n         [2]]),\n tensor([[0, 1]]))"
     },
     "execution_count": 33,
     "metadata": {},
     "output_type": "execute_result"
    }
   ],
   "source": [
    "a=torch.arange(3).reshape(3,1)\n",
    "b=torch.arange(2).reshape(1,2)\n",
    "a,b"
   ],
   "metadata": {
    "collapsed": false,
    "ExecuteTime": {
     "end_time": "2024-02-27T13:01:01.247358Z",
     "start_time": "2024-02-27T13:01:01.240579Z"
    }
   },
   "id": "aebbc9fd13e0078a",
   "execution_count": 33
  },
  {
   "cell_type": "code",
   "outputs": [],
   "source": [],
   "metadata": {
    "collapsed": false
   },
   "id": "cdc34627fbd3bea2"
  },
  {
   "cell_type": "markdown",
   "source": [
    "由于a和b分别是和矩阵，如果让它们相加，它们的形状不匹配。 我们将两个矩阵广播为一个更大的矩阵，如下所示：矩阵a将复制列， 矩阵b将复制行，然后再按元素相加。\n"
   ],
   "metadata": {
    "collapsed": false
   },
   "id": "af59597b3421696d"
  },
  {
   "cell_type": "code",
   "outputs": [
    {
     "data": {
      "text/plain": "tensor([[0, 1],\n        [1, 2],\n        [2, 3]])"
     },
     "execution_count": 34,
     "metadata": {},
     "output_type": "execute_result"
    }
   ],
   "source": [
    "a+b"
   ],
   "metadata": {
    "collapsed": false,
    "ExecuteTime": {
     "end_time": "2024-02-27T13:01:32.639893Z",
     "start_time": "2024-02-27T13:01:32.620097Z"
    }
   },
   "id": "7b5fdc010b1754be",
   "execution_count": 34
  },
  {
   "cell_type": "code",
   "outputs": [],
   "source": [],
   "metadata": {
    "collapsed": false
   },
   "id": "592893aca5c49a0a"
  },
  {
   "cell_type": "markdown",
   "source": [
    "索引和切片"
   ],
   "metadata": {
    "collapsed": false
   },
   "id": "8860be01f996a36d"
  },
  {
   "cell_type": "code",
   "outputs": [
    {
     "data": {
      "text/plain": "(tensor([ 8.,  9., 10., 11.]),\n tensor([[ 4.,  5.,  6.,  7.],\n         [ 8.,  9., 10., 11.]]))"
     },
     "execution_count": 35,
     "metadata": {},
     "output_type": "execute_result"
    }
   ],
   "source": [
    "X[-1],X[1:3]"
   ],
   "metadata": {
    "collapsed": false,
    "ExecuteTime": {
     "end_time": "2024-02-27T13:02:07.639101Z",
     "start_time": "2024-02-27T13:02:07.611477Z"
    }
   },
   "id": "42f7fa2555ca8f7b",
   "execution_count": 35
  },
  {
   "cell_type": "code",
   "outputs": [
    {
     "data": {
      "text/plain": "tensor([[ 0.,  1.,  2.,  3.],\n        [ 4.,  5.,  9.,  7.],\n        [ 8.,  9., 10., 11.]])"
     },
     "execution_count": 37,
     "metadata": {},
     "output_type": "execute_result"
    }
   ],
   "source": [
    "X[1,2]=9\n",
    "X #从0开始索引"
   ],
   "metadata": {
    "collapsed": false,
    "ExecuteTime": {
     "end_time": "2024-02-27T13:03:14.133018Z",
     "start_time": "2024-02-27T13:03:14.120378Z"
    }
   },
   "id": "24c4019a0c920019",
   "execution_count": 37
  },
  {
   "cell_type": "code",
   "outputs": [
    {
     "data": {
      "text/plain": "tensor([[12., 12., 12., 12.],\n        [12., 12., 12., 12.],\n        [ 8.,  9., 10., 11.]])"
     },
     "execution_count": 38,
     "metadata": {},
     "output_type": "execute_result"
    }
   ],
   "source": [
    "X[0:2, :] = 12\n",
    "X"
   ],
   "metadata": {
    "collapsed": false,
    "ExecuteTime": {
     "end_time": "2024-02-27T13:04:52.440495Z",
     "start_time": "2024-02-27T13:04:52.417721Z"
    }
   },
   "id": "813696cb27189d38",
   "execution_count": 38
  },
  {
   "cell_type": "code",
   "outputs": [
    {
     "name": "stdout",
     "output_type": "stream",
     "text": [
      "2421508943680\n",
      "2421478816880\n"
     ]
    }
   ],
   "source": [
    "before = id(Y)\n",
    "Y=Y+X\n",
    "id(Y)==before\n",
    "print(before)\n",
    "print(id(Y))"
   ],
   "metadata": {
    "collapsed": false,
    "ExecuteTime": {
     "end_time": "2024-02-27T13:06:10.165713Z",
     "start_time": "2024-02-27T13:06:10.148052Z"
    }
   },
   "id": "bff4612308429db7",
   "execution_count": 43
  },
  {
   "cell_type": "markdown",
   "source": [
    "这可能是不可取的，原因有两个：\n",
    "\n",
    "首先，我们不想总是不必要地分配内存。在机器学习中，我们可能有数百兆的参数，并且在一秒内多次更新所有参数。通常情况下，我们希望原地执行这些更新；\n",
    "\n",
    "如果我们不原地更新，其他引用仍然会指向旧的内存位置，这样我们的某些代码可能会无意中引用旧的参数。"
   ],
   "metadata": {
    "collapsed": false
   },
   "id": "b08a26aa383b45a0"
  },
  {
   "cell_type": "markdown",
   "source": [
    "原地操作\n"
   ],
   "metadata": {
    "collapsed": false
   },
   "id": "b98f9f62f22d5e15"
  },
  {
   "cell_type": "markdown",
   "source": [
    "幸运的是，执行原地操作非常简单。 我们可以使用切片表示法将操作的结果分配给先前分配的数组，例如Y[:] = <expression>。 为了说明这一点，我们首先创建一个新的矩阵Z，其形状与另一个Y相同， 使用zeros_like来分配一个全的块。"
   ],
   "metadata": {
    "collapsed": false
   },
   "id": "991436402368ea81"
  },
  {
   "cell_type": "code",
   "outputs": [
    {
     "name": "stdout",
     "output_type": "stream",
     "text": [
      "2421508893328\n",
      "2421508893328\n"
     ]
    }
   ],
   "source": [
    "Z=torch.zeros_like(Y)\n",
    "print(id(Z))\n",
    "Z[:]=X+Y\n",
    "print(id(Z))"
   ],
   "metadata": {
    "collapsed": false,
    "ExecuteTime": {
     "end_time": "2024-02-27T13:14:59.094367Z",
     "start_time": "2024-02-27T13:14:59.087304Z"
    }
   },
   "id": "1cd6ff7f979566fc",
   "execution_count": 46
  },
  {
   "cell_type": "markdown",
   "source": [
    "地址没变.如果在后续计算中没有重复使用X， 我们也可以使用X[:] = X + Y或X += Y来减少操作的内存开销。"
   ],
   "metadata": {
    "collapsed": false
   },
   "id": "9c7f02095b625530"
  },
  {
   "cell_type": "code",
   "outputs": [
    {
     "data": {
      "text/plain": "True"
     },
     "execution_count": 47,
     "metadata": {},
     "output_type": "execute_result"
    }
   ],
   "source": [
    "before = id(X)\n",
    "X += Y\n",
    "id(X) == before"
   ],
   "metadata": {
    "collapsed": false,
    "ExecuteTime": {
     "end_time": "2024-02-27T13:17:20.133923Z",
     "start_time": "2024-02-27T13:17:20.100132Z"
    }
   },
   "id": "9ed247a63c257d33",
   "execution_count": 47
  },
  {
   "cell_type": "markdown",
   "source": [
    "转换为其他Python对象"
   ],
   "metadata": {
    "collapsed": false
   },
   "id": "f84f8b5a8833e8d"
  },
  {
   "cell_type": "code",
   "outputs": [
    {
     "data": {
      "text/plain": "(numpy.ndarray, torch.Tensor)"
     },
     "execution_count": 48,
     "metadata": {},
     "output_type": "execute_result"
    }
   ],
   "source": [
    "A=X.numpy()\n",
    "B=torch.tensor(A)\n",
    "type(A),type(B)"
   ],
   "metadata": {
    "collapsed": false,
    "ExecuteTime": {
     "end_time": "2024-02-27T13:23:32.672933Z",
     "start_time": "2024-02-27T13:23:32.659900Z"
    }
   },
   "id": "60f128337605e8c5",
   "execution_count": 48
  },
  {
   "cell_type": "markdown",
   "source": [
    "将深度学习框架定义的张量转换为NumPy张量（ndarray）很容易，反之也同样容易。 torch张量和numpy数组将共享它们的底层内存，就地操作更改一个张量也会同时更改另一个张量。"
   ],
   "metadata": {
    "collapsed": false
   },
   "id": "e12a4f708ed7950b"
  },
  {
   "cell_type": "code",
   "outputs": [
    {
     "data": {
      "text/plain": "(tensor([3.5000]), 3.5, 3.5, 3)"
     },
     "execution_count": 49,
     "metadata": {},
     "output_type": "execute_result"
    }
   ],
   "source": [
    "a = torch.tensor([3.5])\n",
    "a, a.item(), float(a), int(a)"
   ],
   "metadata": {
    "collapsed": false,
    "ExecuteTime": {
     "end_time": "2024-02-27T13:24:41.496182Z",
     "start_time": "2024-02-27T13:24:41.476095Z"
    }
   },
   "id": "5aa500fd9abb4af1",
   "execution_count": 49
  },
  {
   "cell_type": "markdown",
   "source": [
    "要将大小为1的张量转换为Python标量，我们可以调用item函数或Python的内置函数。\n",
    "\n"
   ],
   "metadata": {
    "collapsed": false
   },
   "id": "29468e53b170895e"
  },
  {
   "cell_type": "code",
   "outputs": [],
   "source": [],
   "metadata": {
    "collapsed": false
   },
   "id": "47778a298566c384"
  }
 ],
 "metadata": {
  "kernelspec": {
   "display_name": "Python 3",
   "language": "python",
   "name": "python3"
  },
  "language_info": {
   "codemirror_mode": {
    "name": "ipython",
    "version": 2
   },
   "file_extension": ".py",
   "mimetype": "text/x-python",
   "name": "python",
   "nbconvert_exporter": "python",
   "pygments_lexer": "ipython2",
   "version": "2.7.6"
  }
 },
 "nbformat": 4,
 "nbformat_minor": 5
}
