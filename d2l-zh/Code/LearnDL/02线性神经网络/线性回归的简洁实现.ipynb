{
 "cells": [
  {
   "cell_type": "markdown",
   "source": [
    "## 线性回归的简洁实现"
   ],
   "metadata": {
    "collapsed": false
   },
   "id": "d0a0040f7240c386"
  },
  {
   "metadata": {},
   "cell_type": "markdown",
   "source": "### 生成数据集",
   "id": "50b428c86efd7a72"
  },
  {
   "metadata": {},
   "cell_type": "code",
   "outputs": [],
   "execution_count": null,
   "source": [
    "\n",
    "import torch\n",
    "from d2l import torch as d2l\n",
    "from torch.utils import data\n",
    "import numpy as np\n",
    "\n",
    "true_w = torch.tensor([2, -3.4])\n",
    "true_b = 4.2\n",
    "features, labels = d2l.synthetic_data(true_w, true_b, 1000)"
   ],
   "id": "bbf04aabf4b12a5"
  },
  {
   "metadata": {},
   "cell_type": "markdown",
   "source": "### 读取数据集",
   "id": "1ff6a38aeec519cc"
  },
  {
   "metadata": {},
   "cell_type": "code",
   "outputs": [],
   "execution_count": null,
   "source": [
    "def load_array(data_arrays, batch_size, is_train=True):\n",
    "    \"\"\"构造一个pytorch数据迭代器\"\"\"\n",
    "    dataset = data.TensorDataset(*data_arrays)\n",
    "    return data.DataLoader(dataset, batch_size, shuffle=is_train)\n",
    "\n",
    "\n",
    "batch_size = 10\n",
    "data_iter = load_array((features, labels), batch_size)"
   ],
   "id": "9c7d673c267dbe7e"
  },
  {
   "metadata": {},
   "cell_type": "code",
   "outputs": [],
   "execution_count": null,
   "source": "next(iter(data_iter))",
   "id": "7779b210625a4b27"
  },
  {
   "metadata": {},
   "cell_type": "markdown",
   "source": "### 定义模型",
   "id": "d38be808fdd8de98"
  },
  {
   "metadata": {},
   "cell_type": "code",
   "outputs": [],
   "execution_count": null,
   "source": [
    "from torch import nn\n",
    "\n",
    "net = nn.Sequential(nn.Linear(2, 1))"
   ],
   "id": "9cab53aeee96cea9"
  },
  {
   "metadata": {},
   "cell_type": "markdown",
   "source": "### 初始化模型参数",
   "id": "b0bb35cbdc490fa"
  },
  {
   "metadata": {},
   "cell_type": "code",
   "outputs": [],
   "execution_count": null,
   "source": [
    "net[0].weight.data.normal_(0, 0.01)\n",
    "net[0].bias.data.fill_(0)"
   ],
   "id": "3bd431405c01344"
  },
  {
   "metadata": {},
   "cell_type": "markdown",
   "source": "### 定义损失函数",
   "id": "934ded633a3216ec"
  },
  {
   "metadata": {},
   "cell_type": "code",
   "outputs": [],
   "execution_count": null,
   "source": "",
   "id": "7dfe642a70ac4d5b"
  },
  {
   "metadata": {},
   "cell_type": "code",
   "outputs": [],
   "execution_count": null,
   "source": "loss = nn.MSELoss()  # 均方误差",
   "id": "7a8e2c51286317db"
  },
  {
   "metadata": {},
   "cell_type": "markdown",
   "source": [
    "### 定义优化算法 \n",
    "  小批量随机梯度下降算法是一种优化神经网络的标准工具， PyTorch在optim模块中实现了该算法的许多变种。 当我们实例化一个SGD实例时，我们要指定优化的参数 （可通过net.parameters()从我们的模型中获得）以及优化算法所需的超参数字典。 小批量随机梯度下降只需要设置lr值，这里设置为0.03。\n",
    "\n"
   ],
   "id": "69fb7f88db4a5524"
  },
  {
   "metadata": {},
   "cell_type": "code",
   "outputs": [],
   "execution_count": null,
   "source": "trainer = torch.optim.SGD(net.parameters(), lr=0.03)  ## 小批量随机梯度下降",
   "id": "f9802b3447427de4"
  },
  {
   "metadata": {},
   "cell_type": "markdown",
   "source": "### 训练",
   "id": "d74ef6bbdcb7c991"
  },
  {
   "metadata": {},
   "cell_type": "code",
   "outputs": [],
   "execution_count": null,
   "source": [
    "num_epochs = 3  # 迭代次数\n",
    "for epoch in range(num_epochs):\n",
    "    for X, y in data_iter:\n",
    "        l = loss(net(X), y)\n",
    "        trainer.zero_grad()\n",
    "        l.backward()\n",
    "        trainer.step()\n",
    "    l = loss(net(features), labels)\n",
    "    print(f'epoch {epoch + 1}, loss {l:f}')"
   ],
   "id": "28ddb91e1d95dfd0"
  },
  {
   "metadata": {},
   "cell_type": "code",
   "outputs": [],
   "execution_count": null,
   "source": [
    "w = net[0].weight.data\n",
    "print('w的估计误差：', true_w - w.reshape(true_w.shape))\n",
    "b = net[0].bias.data\n",
    "print('b的估计误差：', true_b - b)"
   ],
   "id": "ac9046c5a8ad1a6c"
  },
  {
   "metadata": {},
   "cell_type": "code",
   "outputs": [],
   "execution_count": null,
   "source": "",
   "id": "212beb7dea81db28"
  }
 ],
 "metadata": {
  "kernelspec": {
   "display_name": "Python 3",
   "language": "python",
   "name": "python3"
  },
  "language_info": {
   "codemirror_mode": {
    "name": "ipython",
    "version": 2
   },
   "file_extension": ".py",
   "mimetype": "text/x-python",
   "name": "python",
   "nbconvert_exporter": "python",
   "pygments_lexer": "ipython2",
   "version": "2.7.6"
  }
 },
 "nbformat": 4,
 "nbformat_minor": 5
}
