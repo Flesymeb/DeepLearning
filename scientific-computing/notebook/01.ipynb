{
 "cells": [
  {
   "cell_type": "code",
   "execution_count": 3,
   "id": "6fc51a44",
   "metadata": {},
   "outputs": [],
   "source": [
    "import numpy as np"
   ]
  },
  {
   "cell_type": "code",
   "execution_count": 5,
   "id": "13994765",
   "metadata": {},
   "outputs": [
    {
     "name": "stdout",
     "output_type": "stream",
     "text": [
      "[0 2 4 6 8]\n"
     ]
    }
   ],
   "source": [
    "arrange_array2 = np.arange(0,10,2)\n",
    "print(arrange_array2)"
   ]
  },
  {
   "cell_type": "code",
   "execution_count": 7,
   "id": "530e4100",
   "metadata": {},
   "outputs": [
    {
     "name": "stdout",
     "output_type": "stream",
     "text": [
      "[ 0.   2.5  5.   7.5 10. ]\n"
     ]
    }
   ],
   "source": [
    "linspace_array = np.linspace(0,10,5)\n",
    "print(linspace_array)"
   ]
  },
  {
   "cell_type": "code",
   "execution_count": 10,
   "id": "5c64fa83",
   "metadata": {},
   "outputs": [
    {
     "name": "stdout",
     "output_type": "stream",
     "text": [
      "[[1 0 0]\n",
      " [0 2 0]\n",
      " [0 0 3]]\n",
      "[1 5 9]\n"
     ]
    }
   ],
   "source": [
    "diag_matrix = np.diag([1,2,3])\n",
    "print(diag_matrix)\n",
    "\n",
    "diag_elements = np.diag(np.array(\n",
    "    [[1, 2, 3],\n",
    "     [4, 5, 6],\n",
    "     [7, 8, 9]]\n",
    "))\n",
    "print(diag_elements)"
   ]
  },
  {
   "cell_type": "code",
   "execution_count": 12,
   "id": "c3caa3ae",
   "metadata": {},
   "outputs": [
    {
     "name": "stdout",
     "output_type": "stream",
     "text": [
      "[[1. 0. 0.]\n",
      " [0. 1. 0.]\n",
      " [0. 0. 1.]]\n"
     ]
    }
   ],
   "source": [
    "eye_matrix = np.eye(3)\n",
    "print(eye_matrix)"
   ]
  },
  {
   "cell_type": "code",
   "execution_count": 13,
   "id": "8ec738c9",
   "metadata": {},
   "outputs": [
    {
     "name": "stdout",
     "output_type": "stream",
     "text": [
      "[[1. 0. 0. 0.]\n",
      " [0. 1. 0. 0.]\n",
      " [0. 0. 1. 0.]]\n"
     ]
    }
   ],
   "source": [
    "eye_matrix_3x4 = np.eye(3, 4)\n",
    "print(eye_matrix_3x4)"
   ]
  },
  {
   "cell_type": "code",
   "execution_count": 14,
   "id": "6cce3a0d",
   "metadata": {},
   "outputs": [
    {
     "name": "stdout",
     "output_type": "stream",
     "text": [
      "[[0. 1. 0.]\n",
      " [0. 0. 1.]\n",
      " [0. 0. 0.]]\n"
     ]
    }
   ],
   "source": [
    "eye_matrix_k1 = np.eye(3, k=1)\n",
    "print(eye_matrix_k1)"
   ]
  },
  {
   "cell_type": "code",
   "execution_count": 16,
   "id": "04314e07",
   "metadata": {},
   "outputs": [
    {
     "name": "stdout",
     "output_type": "stream",
     "text": [
      "[[1 4 7]\n",
      " [2 5 8]\n",
      " [3 6 9]]\n"
     ]
    }
   ],
   "source": [
    "import numpy as np\n",
    "# 创建一个3x3的数组\n",
    "arr = np.array(\n",
    "    [\n",
    "        [1, 2, 3],\n",
    "        [4, 5, 6],\n",
    "        [7, 8, 9]\n",
    "    ]\n",
    ")\n",
    "# 使用.T属性进行转置\n",
    "arr_T = arr.T\n",
    "print(arr_T)"
   ]
  },
  {
   "cell_type": "code",
   "execution_count": 28,
   "id": "1ffac4f0",
   "metadata": {},
   "outputs": [
    {
     "name": "stdout",
     "output_type": "stream",
     "text": [
      "[[0 1 2]\n",
      " [3 4 5]]\n"
     ]
    }
   ],
   "source": [
    "arr = np.arange(6)\n",
    "\n",
    "arr_reshaped = arr.reshape((2, 3))\n",
    "print(arr_reshaped)"
   ]
  },
  {
   "cell_type": "code",
   "execution_count": 29,
   "id": "fca1cf24",
   "metadata": {},
   "outputs": [
    {
     "name": "stdout",
     "output_type": "stream",
     "text": [
      "[1 2 3 4 5 6]\n"
     ]
    }
   ],
   "source": [
    "import numpy as np\n",
    "\n",
    "# 创建一个二维数组\n",
    "arr = np.array([[1, 2, 3], [4, 5, 6]])\n",
    "\n",
    "# 使用flatten转换为一维数组\n",
    "arr_flat = arr.flatten()  # 注意：这里也可以直接使用 np.flatten(arr)，但使用数组对象的方法更常见\n",
    "\n",
    "print(arr_flat)\n",
    "# 输出:\n",
    "# [1 2 3 4 5 6]"
   ]
  },
  {
   "cell_type": "code",
   "execution_count": 31,
   "id": "b2113c1b",
   "metadata": {},
   "outputs": [
    {
     "name": "stdout",
     "output_type": "stream",
     "text": [
      "[[1 2]\n",
      " [3 4]\n",
      " [5 6]]\n",
      "[[1 2 5]\n",
      " [3 4 6]]\n"
     ]
    }
   ],
   "source": [
    "a = np.array([[1, 2], [3, 4]])\n",
    "b = np.array([[5, 6]])\n",
    "\n",
    "c = np.concatenate((a,b),axis=0)  # 沿着第0轴（行）连接\n",
    "print(c)\n",
    "\n",
    "d = np.concatenate((a,b.T),axis=1)  # 沿着第1轴（列）连接\n",
    "print(d)"
   ]
  },
  {
   "cell_type": "code",
   "execution_count": 35,
   "id": "a2a51a36",
   "metadata": {},
   "outputs": [
    {
     "name": "stdout",
     "output_type": "stream",
     "text": [
      "[[1 2]\n",
      " [3 4]]\n",
      "[[1 3]\n",
      " [2 4]]\n",
      "[1 2 3 4]\n"
     ]
    }
   ],
   "source": [
    "a = np.array([1,2])\n",
    "b = np.array([3,4])\n",
    "\n",
    "# 沿着新的轴堆叠\n",
    "c = np.stack((a,b),axis=0)  # 沿着第0轴堆叠\n",
    "print(c)\n",
    "\n",
    "d = np.stack((a,b),axis=1)  # 沿着第1轴堆叠\n",
    "print(d)\n",
    "\n",
    "e = np.concatenate((a,b), axis=0)  # 沿着第0轴连接\n",
    "print(e)"
   ]
  },
  {
   "cell_type": "code",
   "execution_count": 36,
   "id": "ad26d8f8",
   "metadata": {},
   "outputs": [
    {
     "name": "stdout",
     "output_type": "stream",
     "text": [
      "[[1 2]\n",
      " [3 4]]\n"
     ]
    }
   ],
   "source": [
    "a = np.array([1, 2])\n",
    "b = np.array([3, 4])\n",
    "c = np.vstack((a, b))\n",
    "print(c)\n",
    "# 输出:\n",
    "# [[1 2]\n",
    "#  [3 4]]\n"
   ]
  },
  {
   "cell_type": "code",
   "execution_count": 37,
   "id": "90b82147",
   "metadata": {},
   "outputs": [
    {
     "name": "stdout",
     "output_type": "stream",
     "text": [
      "[[1 3]\n",
      " [2 4]]\n"
     ]
    }
   ],
   "source": [
    "a = np.array([[1], [2]])\n",
    "b = np.array([[3], [4]])\n",
    "c = np.hstack((a, b))\n",
    "print(c)\n",
    "# 输出:\n",
    "# [[1 3]\n",
    "#  [2 4]]\n"
   ]
  },
  {
   "cell_type": "code",
   "execution_count": 38,
   "id": "8cb159c1",
   "metadata": {},
   "outputs": [
    {
     "name": "stdout",
     "output_type": "stream",
     "text": [
      "[ True  True False  True  True]\n",
      "[1 2 4 5]\n"
     ]
    }
   ],
   "source": [
    "a = np.array([1, 2, 3, 4, 5])\n",
    "\n",
    "#删除值为3的元素\n",
    "mask = a != 3\n",
    "print(mask)\n",
    "b = a[mask]\n",
    "print(b)\n"
   ]
  },
  {
   "cell_type": "code",
   "execution_count": 1,
   "id": "47167e20",
   "metadata": {},
   "outputs": [
    {
     "name": "stdout",
     "output_type": "stream",
     "text": [
      "[11 22 33]\n"
     ]
    }
   ],
   "source": [
    "import numpy as np\n",
    "\n",
    "A = np.array([1, 2, 3])  # 形状 (3,)\n",
    "B = np.array([10, 20, 30, 40])  # 形状 (4,)\n",
    "\n",
    "# 尝试进行加法运算，但直接相加会报错，因为形状不匹配\n",
    "# 但如果我们将A视为 (1, 3) 形状的数组，并将B视为 (4, 1) 形状的数组，然后进行逐元素加法，则可以实现广播\n",
    "# 然而，NumPy不会直接显示地改变数组的形状，而是隐式地进行广播\n",
    "\n",
    "# 实际上，NumPy不允许直接将形状为 (3,) 和 (4,) 的数组进行广播\n",
    "# 但如果我们将B的前三个元素与A的元素相加，可以模拟广播的效果（注意：这不是NumPy的默认行为）\n",
    "# 为了演示广播，我们可以使用形状兼容的数组\n",
    "C = np.array([10, 20, 30])  # 形状 (3,)\n",
    "D = A + C  # 这里可以广播，因为形状相同\n",
    "print(D)  # 输出: [11 22 33]\n",
    "\n",
    "# 注意：上面的C和D的示例是为了说明广播的概念，而不是NumPy直接允许的操作\n"
   ]
  },
  {
   "cell_type": "code",
   "execution_count": 2,
   "id": "16adc075",
   "metadata": {},
   "outputs": [
    {
     "name": "stdout",
     "output_type": "stream",
     "text": [
      "[[11 22 33]\n",
      " [14 25 36]]\n"
     ]
    }
   ],
   "source": [
    "import numpy as np\n",
    "\n",
    "A = np.array([[1, 2, 3], [4, 5, 6]])  # 形状 (2, 3)\n",
    "B = np.array([10, 20, 30])  # 形状 (3,)\n",
    "\n",
    "# B会被视为形状为 (1, 3) 的数组，然后在第一个维度上复制以匹配A的形状 (2, 3)\n",
    "# 现在A和B具有相同的“广播后”形状，可以进行逐元素加法\n",
    "C = A + B\n",
    "print(C)\n",
    "# 输出:\n",
    "# [[11 22 33]\n",
    "#  [14 25 36]]\n"
   ]
  },
  {
   "cell_type": "code",
   "execution_count": 7,
   "id": "b0bf09e2",
   "metadata": {},
   "outputs": [
    {
     "name": "stdout",
     "output_type": "stream",
     "text": [
      "[0.66309783 0.7948689  0.55487851 0.95227315 0.87951584]\n",
      "[[0.10049459 0.42606765 0.98969052]\n",
      " [0.68770203 0.95519184 0.53872093]]\n"
     ]
    }
   ],
   "source": [
    "arr1 = np.random.rand(5)\n",
    "print(arr1)\n",
    "\n",
    "arr2 = np.random.rand(2,3)\n",
    "print(arr2)"
   ]
  },
  {
   "cell_type": "code",
   "execution_count": 8,
   "id": "53cacca0",
   "metadata": {},
   "outputs": [
    {
     "name": "stdout",
     "output_type": "stream",
     "text": [
      "[-1.5080315  -0.42491158  1.37995143 -0.52816624 -0.50529157]\n",
      "[[-1.15799049  0.76681092 -0.99189644]\n",
      " [-0.34064741  0.44910401  0.63818713]]\n"
     ]
    }
   ],
   "source": [
    "import numpy as np\n",
    "\n",
    "# 生成一个具有5个元素的一维数组\n",
    "arr1 = np.random.randn(5)\n",
    "print(arr1)\n",
    "\n",
    "# 生成一个2行3列的二维数组\n",
    "arr2 = np.random.randn(2, 3)\n",
    "print(arr2)\n"
   ]
  },
  {
   "cell_type": "code",
   "execution_count": 10,
   "id": "536a5cb9",
   "metadata": {},
   "outputs": [
    {
     "name": "stdout",
     "output_type": "stream",
     "text": [
      "[7 6 3 6 3]\n",
      "[[9 7 5]\n",
      " [5 4 6]]\n"
     ]
    }
   ],
   "source": [
    "import numpy as np\n",
    "\n",
    "# 生成一个在[1, 10)之间的一维整数数组\n",
    "arr1 = np.random.randint(1, 10, size=5)\n",
    "print(arr1)\n",
    "\n",
    "# 生成一个在[1, 10)之间2行3列的二维整数数组\n",
    "arr2 = np.random.randint(1, 10, size=(2, 3))\n",
    "print(arr2)"
   ]
  },
  {
   "cell_type": "code",
   "execution_count": 13,
   "id": "d75e1956",
   "metadata": {},
   "outputs": [
    {
     "name": "stdout",
     "output_type": "stream",
     "text": [
      "[4.76148493 2.95934877 3.7242065  2.00616413 4.40270985]\n",
      "[[3.33201881 3.23810554 4.45104286]\n",
      " [4.88306576 1.84445888 4.65124523]]\n"
     ]
    }
   ],
   "source": [
    "import numpy as np\n",
    "\n",
    "# 生成一个在[1, 5)之间的一维数组\n",
    "arr1 = np.random.uniform(1, 5, size=5)\n",
    "print(arr1)\n",
    "\n",
    "# 生成一个在[1, 5)之间2行3列的二维数组\n",
    "arr2 = np.random.uniform(1, 5, size=(2, 3))\n",
    "print(arr2)"
   ]
  },
  {
   "cell_type": "code",
   "execution_count": null,
   "id": "db40b031",
   "metadata": {},
   "outputs": [],
   "source": []
  },
  {
   "cell_type": "code",
   "execution_count": null,
   "id": "ed8c698d",
   "metadata": {},
   "outputs": [],
   "source": []
  }
 ],
 "metadata": {
  "kernelspec": {
   "display_name": "pytorch",
   "language": "python",
   "name": "python3"
  },
  "language_info": {
   "codemirror_mode": {
    "name": "ipython",
    "version": 3
   },
   "file_extension": ".py",
   "mimetype": "text/x-python",
   "name": "python",
   "nbconvert_exporter": "python",
   "pygments_lexer": "ipython3",
   "version": "3.11.8"
  }
 },
 "nbformat": 4,
 "nbformat_minor": 5
}
