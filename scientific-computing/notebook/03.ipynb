{
 "cells": [
  {
   "cell_type": "code",
   "execution_count": 1,
   "id": "237250b8",
   "metadata": {},
   "outputs": [
    {
     "name": "stdout",
     "output_type": "stream",
     "text": [
      "原矩阵 A:\n",
      "[[1 2]\n",
      " [3 4]]\n",
      "逆矩阵 A_inv:\n",
      "[[-2.   1. ]\n",
      " [ 1.5 -0.5]]\n",
      "验证逆矩阵的性质 A * A_inv:\n",
      "[[1.0000000e+00 0.0000000e+00]\n",
      " [8.8817842e-16 1.0000000e+00]]\n"
     ]
    }
   ],
   "source": [
    "import numpy as np\n",
    "\n",
    "# 定义一个矩阵\n",
    "A = np.array([[1, 2], [3, 4]])\n",
    "\n",
    "# 计算逆矩阵\n",
    "A_inv = np.linalg.inv(A)\n",
    "\n",
    "print(\"原矩阵 A:\")\n",
    "print(A)\n",
    "print(\"逆矩阵 A_inv:\")\n",
    "print(A_inv)\n",
    "\n",
    "# 验证逆矩阵的性质\n",
    "I = np.dot(A, A_inv)\n",
    "print(\"验证逆矩阵的性质 A * A_inv:\")\n",
    "print(I)"
   ]
  },
  {
   "cell_type": "code",
   "execution_count": 5,
   "id": "85b09f6a",
   "metadata": {},
   "outputs": [],
   "source": [
    "if np.linalg.det(A) != 0:\n",
    "    A_inv = np.linalg.inv(A)\n",
    "else:\n",
    "    print(\"矩阵不可逆，无法计算逆矩阵。\")"
   ]
  },
  {
   "cell_type": "code",
   "execution_count": 6,
   "id": "429358de",
   "metadata": {},
   "outputs": [
    {
     "name": "stdout",
     "output_type": "stream",
     "text": [
      "原矩阵 A:\n",
      "[[1 2]\n",
      " [3 4]\n",
      " [5 6]]\n",
      "伪逆矩阵 A_pinv:\n",
      "[[-1.33333333 -0.33333333  0.66666667]\n",
      " [ 1.08333333  0.33333333 -0.41666667]]\n"
     ]
    }
   ],
   "source": [
    "import numpy as np\n",
    "\n",
    "# 定义一个非方阵或奇异方阵A\n",
    "A = np.array([[1, 2], [3, 4], [5, 6]])\n",
    "# 计算伪逆矩阵\n",
    "A_pinv = np.linalg.pinv(A)\n",
    "\n",
    "print(\"原矩阵 A:\")\n",
    "print(A)\n",
    "print(\"伪逆矩阵 A_pinv:\")\n",
    "print(A_pinv)"
   ]
  },
  {
   "cell_type": "code",
   "execution_count": 7,
   "id": "59cf4cb8",
   "metadata": {},
   "outputs": [
    {
     "name": "stdout",
     "output_type": "stream",
     "text": [
      "矩阵 A 的秩: 2\n"
     ]
    }
   ],
   "source": [
    "import numpy as np\n",
    "\n",
    "# 定义一个矩阵\n",
    "A = np.array([[1, 2, 3], [4, 5, 6], [7, 8, 9]])\n",
    "\n",
    "# 计算矩阵的秩\n",
    "rank_A = np.linalg.matrix_rank(A)\n",
    "print(\"矩阵 A 的秩:\", rank_A)"
   ]
  },
  {
   "cell_type": "code",
   "execution_count": 8,
   "id": "630fbf37",
   "metadata": {},
   "outputs": [
    {
     "name": "stdout",
     "output_type": "stream",
     "text": [
      "矩阵:\n",
      " [[1 2 3]\n",
      " [4 5 6]\n",
      " [7 8 0]]\n",
      "行列式: 27.0\n"
     ]
    }
   ],
   "source": [
    "import numpy as np\n",
    "\n",
    "# 创建一个3x3的矩阵\n",
    "matrix = np.array([[1, 2, 3], [4, 5, 6], [7, 8, 0]])\n",
    "\n",
    "# 计算矩阵的行列式\n",
    "det = np.linalg.det(matrix)\n",
    "\n",
    "# 输出结果\n",
    "print(\"矩阵:\\n\", matrix)\n",
    "print(\"行列式:\", det)"
   ]
  },
  {
   "cell_type": "code",
   "execution_count": 9,
   "id": "9a75b602",
   "metadata": {},
   "outputs": [
    {
     "name": "stdout",
     "output_type": "stream",
     "text": [
      "矩阵A的弗罗贝尼乌斯范数为: 5.477225575051661\n",
      "矩阵A的弗罗贝尼乌斯范数（显式指定）为: 5.477225575051661\n",
      "矩阵A的L1范数为: 6.0\n",
      "矩阵A的无穷范数为: 7.0\n"
     ]
    }
   ],
   "source": [
    "import numpy as np\n",
    "\n",
    "# 定义一个矩阵\n",
    "A = np.array([[1, 2], [3, 4]])\n",
    "\n",
    "# 计算矩阵的弗罗贝尼乌斯范数（默认参数即为弗罗贝尼乌斯范数）\n",
    "norm_A = np.linalg.norm(A)\n",
    "\n",
    "# 或者显式指定范数为'fro'\n",
    "norm_A_fro = np.linalg.norm(A, \"fro\")\n",
    "\n",
    "# 输出结果\n",
    "print(\"矩阵A的弗罗贝尼乌斯范数为:\", norm_A)\n",
    "print(\"矩阵A的弗罗贝尼乌斯范数（显式指定）为:\", norm_A_fro)\n",
    "\n",
    "# 如果想要计算其他类型的范数（如L1范数或无穷范数），可以修改norm函数的参数\n",
    "norm_A_1 = np.linalg.norm(A, 1)  # 计算L1范数（列和范数）\n",
    "norm_A_inf = np.linalg.norm(A, np.inf)  # 计算无穷范数（行和范数）\n",
    "\n",
    "print(\"矩阵A的L1范数为:\", norm_A_1)\n",
    "print(\"矩阵A的无穷范数为:\", norm_A_inf)"
   ]
  },
  {
   "cell_type": "code",
   "execution_count": 10,
   "id": "3b7b269a",
   "metadata": {},
   "outputs": [
    {
     "name": "stdout",
     "output_type": "stream",
     "text": [
      "方程组的解为: [-1.44736842  0.71052632  2.32894737]\n"
     ]
    }
   ],
   "source": [
    "import numpy as np\n",
    "\n",
    "\n",
    "def cramer_rule(A, b):\n",
    "    \"\"\"\n",
    "    使用克拉默法则求解线性方程组 Ax = b\n",
    "    :param A: 系数矩阵，形状为 (n, n)\n",
    "    :param b: 常数项向量，形状为 (n,)\n",
    "    :return: 方程组的解，形状为 (n,)\n",
    "    \"\"\"\n",
    "    n = A.shape[0] # 方程组的未知数个数\n",
    "    if A.shape[1] != n or b.shape[0] != n:\n",
    "        raise ValueError(\"矩阵 A 必须是方阵，向量 b 的长度必须与 A 的行数相同。\")\n",
    "\n",
    "    det_A = np.linalg.det(A)  # 计算系数矩阵的行列式\n",
    "    if det_A == 0:\n",
    "        raise ValueError(\"系数矩阵 A 的行列式为零，方程组无唯一解。\")\n",
    "\n",
    "    x = np.zeros(n)  # 初始化解向量\n",
    "    for i in range(n):\n",
    "        # 创建一个新的矩阵，将第 i 列替换为 b\n",
    "        Ai = np.copy(A) # A.copy()\n",
    "        Ai[:, i] = b\n",
    "\n",
    "        # 计算Ai的行列式并除以A的行列式得到解的第i个分量\n",
    "        x[i] = np.linalg.det(Ai) / det_A\n",
    "\n",
    "    return x\n",
    "\n",
    "# 示例使用\n",
    "A = np.array([[4, 3, 2], [2, -2, 4], [3, 8, 2]])\n",
    "b = np.array([1, 5, 6])\n",
    "\n",
    "solution = cramer_rule(A, b)\n",
    "print(\"方程组的解为:\", solution)"
   ]
  },
  {
   "cell_type": "code",
   "execution_count": 14,
   "id": "8a67eb66",
   "metadata": {},
   "outputs": [
    {
     "name": "stdout",
     "output_type": "stream",
     "text": [
      "方程组的解为: [ 4.  2. -1.]\n"
     ]
    }
   ],
   "source": [
    "import numpy as np\n",
    "\n",
    "\n",
    "def gaussian_elimination(A, b):\n",
    "    \"\"\"\n",
    "    使用高斯消元法求解线性方程组 Ax = b\n",
    "    :param A: 系数矩阵，形状为 (n, n)\n",
    "    :param b: 常数项向量，形状为 (n,)\n",
    "    :return: 方程组的解，形状为 (n,)\n",
    "    \"\"\"\n",
    "    n = A.shape[0]\n",
    "    if A.shape[1] != n or b.shape[0] != n:\n",
    "        raise ValueError(\"系数矩阵A和常数项向量b的维度不匹配\")\n",
    "\n",
    "    # 合并A和b以简化操作\n",
    "    Ab = np.hstack((A.astype(float), b.reshape(-1, 1).astype(float)))\n",
    "\n",
    "    # 前向消元过程\n",
    "    for k in range(n):\n",
    "        # 选择主元（这里简单起见，不进行部分选主元，实际应用中可能需要）\n",
    "        # 如果当前行的主元为0，则应该进行行交换（这里省略了行交换的逻辑）\n",
    "\n",
    "        # 将当前行以下的所有行减去当前行的适当倍数，使得以下行的第k列变为0\n",
    "        for i in range(k + 1, n):\n",
    "            factor = Ab[i, k] / Ab[k, k]\n",
    "            Ab[i, k:] -= factor * Ab[k, k:]\n",
    "\n",
    "    # 回代过程\n",
    "    x = np.zeros(n)\n",
    "    for i in range(n - 1, -1, -1):\n",
    "        x[i] = (Ab[i, -1] - np.dot(Ab[i, :i], x[:i])) / Ab[i, i]\n",
    "\n",
    "    return x\n",
    "\n",
    "\n",
    "# 示例\n",
    "A = np.array([[2, 1, -1], [-3, -1, 2], [-2, 1, 2]])\n",
    "b = np.array([8, -11, -3])\n",
    "\n",
    "solution = gaussian_elimination(A, b)\n",
    "print(\"方程组的解为:\", solution)"
   ]
  },
  {
   "cell_type": "code",
   "execution_count": 15,
   "id": "ea5a4a56",
   "metadata": {},
   "outputs": [
    {
     "name": "stdout",
     "output_type": "stream",
     "text": [
      "最小二乘解: [-1.11274361e-16  5.00000000e-01]\n"
     ]
    }
   ],
   "source": [
    "import numpy as np\n",
    "\n",
    "# 系数矩阵A\n",
    "A = np.array([[1, 2], [3, 4], [5, 6]])\n",
    "# 常数项向量b\n",
    "b = np.array([1, 2, 3])\n",
    "\n",
    "# 使用lstsq求解最小二乘解\n",
    "x, residuals, rank, s = np.linalg.lstsq(A, b, rcond=None)\n",
    "print(\"最小二乘解:\", x)"
   ]
  },
  {
   "cell_type": "code",
   "execution_count": 16,
   "id": "826d8a3d",
   "metadata": {},
   "outputs": [
    {
     "name": "stdout",
     "output_type": "stream",
     "text": [
      "特征值： [5. 2.]\n",
      "特征向量：\n",
      "特征值 5.0 对应的特征向量：[0.89442719 0.4472136 ]\n",
      "特征值 2.0 对应的特征向量：[-0.70710678  0.70710678]\n",
      "验证特征值 5.0 和特征向量 [0.89442719 0.4472136 ] 正确\n",
      "验证特征值 2.0 和特征向量 [-0.70710678  0.70710678] 正确\n"
     ]
    }
   ],
   "source": [
    "import numpy as np\n",
    "\n",
    "# 定义一个方阵A\n",
    "A = np.array([[4, 2], [1, 3]])\n",
    "\n",
    "# 使用eig函数进行特征值分解\n",
    "eigenvalues, eigenvectors = np.linalg.eig(A)\n",
    "\n",
    "# eigenvalues是一个包含特征值的数组\n",
    "# eigenvectors的列是对应的特征向量\n",
    "\n",
    "print(\"特征值：\", eigenvalues)\n",
    "print(\"特征向量：\")\n",
    "for i, eigenvector in enumerate(eigenvectors.T):\n",
    "    print(f\"特征值 {eigenvalues[i]} 对应的特征向量：{eigenvector}\")\n",
    "\n",
    "# 验证特征值和特征向量的正确性\n",
    "# 对于每个特征值lambda_i和对应的特征向量v_i，应有 Av_i = lambda_i * v_i\n",
    "for i, eigenvalue in enumerate(eigenvalues):\n",
    "    eigenvector = eigenvectors[:, i]\n",
    "    result = np.dot(A, eigenvector)\n",
    "    assert np.allclose(result, eigenvalue * eigenvector)\n",
    "    print(f\"验证特征值 {eigenvalue} 和特征向量 {eigenvector} 正确\")"
   ]
  },
  {
   "cell_type": "code",
   "execution_count": null,
   "id": "b2d9ce87",
   "metadata": {},
   "outputs": [],
   "source": [
    "def AHP(A):\n",
    "    m = len(A)  # 获取指标个数\n",
    "    n = len(A[0])\n",
    "    RI = [0, 0, 0.58, 0.90, 1.12, 1.24, 1.32, 1.41, 1.45, 1.49, 1.51]\n",
    "    R = np.linalg.matrix_rank(A)  # 求判断矩阵的秩\n",
    "    V, D = np.linalg.eig(A)  # 求判断矩阵的特征值和特征向量，V特征值，D特征向量；\n",
    "    list1 = list(V)\n",
    "    B = np.max(list1)  # 最大特征值\n",
    "    index = list1.index(B)\n",
    "    C = D[:, index]  # 对应特征向量\n",
    "    CI = (B - n) / (n - 1)  # 计算一致性检验指标CI\n",
    "    CR = CI / RI[n]\n",
    "    if CR < 0.10:\n",
    "        print(\"CI=\", CI.real)\n",
    "        print(\"CR=\", CR.real)\n",
    "        print(\"对比矩阵A通过一致性检验，各向量权重向量Q为：\")\n",
    "        sum = np.sum(C)\n",
    "        Q = C / sum  # 特征向量标准化\n",
    "        print(Q.real)  #    输出权重向量\n",
    "        return Q.real\n",
    "    else:\n",
    "        print(\"对比矩阵A未通过一致性检验，需对对比矩阵A重新构造\")\n",
    "        return 0"
   ]
  },
  {
   "cell_type": "code",
   "execution_count": 17,
   "id": "8c3fe969",
   "metadata": {},
   "outputs": [],
   "source": [
    "def pca(X, n_components):\n",
    "    X = np.array(X)\n",
    "    X = X - np.mean(X)\n",
    "    n = len(X)\n",
    "    A = np.dot(X.T, X) / (n - 1)\n",
    "    V, D = np.linalg.eig(A)\n",
    "    idx = (-V).argsort(axis=None)[:n_components]\n",
    "    P = D[idx]\n",
    "    F = np.dot(X, P.T)\n",
    "    return V[idx] / sum(V), F"
   ]
  },
  {
   "cell_type": "code",
   "execution_count": 26,
   "id": "3b35ac1f",
   "metadata": {},
   "outputs": [
    {
     "ename": "ValueError",
     "evalue": "shapes (3,2) and (3,2) not aligned: 2 (dim 1) != 3 (dim 0)",
     "output_type": "error",
     "traceback": [
      "\u001b[1;31m---------------------------------------------------------------------------\u001b[0m",
      "\u001b[1;31mValueError\u001b[0m                                Traceback (most recent call last)",
      "Cell \u001b[1;32mIn[26], line 19\u001b[0m\n\u001b[0;32m     15\u001b[0m V \u001b[38;5;241m=\u001b[39m VT\u001b[38;5;241m.\u001b[39mT\n\u001b[0;32m     17\u001b[0m \u001b[38;5;66;03m# 验证SVD的正确性\u001b[39;00m\n\u001b[0;32m     18\u001b[0m \u001b[38;5;66;03m# A应该等于U * Sigma * VT（注意Sigma不是方阵时，需要按照形状进行乘法）\u001b[39;00m\n\u001b[1;32m---> 19\u001b[0m reconstructed_A \u001b[38;5;241m=\u001b[39m np\u001b[38;5;241m.\u001b[39mdot(U, Sigma)\n\u001b[0;32m     20\u001b[0m reconstructed_A \u001b[38;5;241m=\u001b[39m np\u001b[38;5;241m.\u001b[39mdot(reconstructed_A, VT)\n\u001b[0;32m     22\u001b[0m \u001b[38;5;66;03m# 由于浮点运算的精度问题，我们不会直接比较A和reconstructed_A是否相等\u001b[39;00m\n\u001b[0;32m     23\u001b[0m \u001b[38;5;66;03m# 而是检查它们是否足够接近\u001b[39;00m\n",
      "\u001b[1;31mValueError\u001b[0m: shapes (3,2) and (3,2) not aligned: 2 (dim 1) != 3 (dim 0)"
     ]
    }
   ],
   "source": [
    "import numpy as np\n",
    "\n",
    "# 定义一个矩阵A\n",
    "A = np.array([[1, 2], [3, 4], [5, 6]])\n",
    "\n",
    "# 使用svd函数进行奇异值分解\n",
    "U, s, VT = np.linalg.svd(A, full_matrices=False)\n",
    "\n",
    "# 注意：numpy.linalg.svd返回的s是奇异值数组，而不是对角矩阵\n",
    "# 我们需要将其转换为对角矩阵形式\n",
    "Sigma = np.zeros((A.shape[0], A.shape[1]))\n",
    "Sigma[: len(s), : len(s)] = np.diag(s)\n",
    "\n",
    "# VT是V的转置，如果需要V，则可以使用VT.T获取\n",
    "V = VT.T\n",
    "\n",
    "# 验证SVD的正确性\n",
    "# A应该等于U * Sigma * VT（注意Sigma不是方阵时，需要按照形状进行乘法）\n",
    "reconstructed_A = np.dot(U, Sigma)\n",
    "reconstructed_A = np.dot(reconstructed_A, VT)\n",
    "\n",
    "# 由于浮点运算的精度问题，我们不会直接比较A和reconstructed_A是否相等\n",
    "# 而是检查它们是否足够接近\n",
    "print(np.allclose(A, reconstructed_A))  # 应该输出True或非常接近True的值\n",
    "\n",
    "# 输出奇异值、左奇异向量和右奇异向量\n",
    "print(\"奇异值：\", s)\n",
    "print(\"左奇异向量：\")\n",
    "print(U)\n",
    "print(\"右奇异向量：\")\n",
    "print(V)"
   ]
  },
  {
   "cell_type": "code",
   "execution_count": null,
   "id": "cbabab03",
   "metadata": {},
   "outputs": [],
   "source": []
  }
 ],
 "metadata": {
  "kernelspec": {
   "display_name": "pytorch",
   "language": "python",
   "name": "python3"
  },
  "language_info": {
   "codemirror_mode": {
    "name": "ipython",
    "version": 3
   },
   "file_extension": ".py",
   "mimetype": "text/x-python",
   "name": "python",
   "nbconvert_exporter": "python",
   "pygments_lexer": "ipython3",
   "version": "3.11.8"
  }
 },
 "nbformat": 4,
 "nbformat_minor": 5
}
