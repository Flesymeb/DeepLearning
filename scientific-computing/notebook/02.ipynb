{
 "cells": [
  {
   "cell_type": "code",
   "execution_count": 3,
   "id": "a6b9aaad",
   "metadata": {},
   "outputs": [
    {
     "name": "stdout",
     "output_type": "stream",
     "text": [
      "1\n",
      "2\n",
      "3\n",
      "4\n",
      "5\n"
     ]
    }
   ],
   "source": [
    "import numpy as np\n",
    "\n",
    "arr=np.array([1, 2, 3, 4, 5])\n",
    "\n",
    "for i in arr:\n",
    "    print(i)"
   ]
  },
  {
   "cell_type": "code",
   "execution_count": 7,
   "id": "846ad4ea",
   "metadata": {},
   "outputs": [
    {
     "name": "stdout",
     "output_type": "stream",
     "text": [
      "数量积为： 32\n"
     ]
    }
   ],
   "source": [
    "import numpy as np\n",
    "\n",
    "# 定义两个向量\n",
    "a = np.array([1, 2, 3])\n",
    "b = np.array([4, 5, 6])\n",
    "\n",
    "# 计算数量积\n",
    "#dot_product = np.dot(a, b)\n",
    "dot_product = a @ b\n",
    "\n",
    "print(\"数量积为：\", dot_product)  # 输出: 数量积为： 32"
   ]
  },
  {
   "cell_type": "code",
   "execution_count": 8,
   "id": "63f46e74",
   "metadata": {},
   "outputs": [
    {
     "name": "stdout",
     "output_type": "stream",
     "text": [
      "[4 5 6]\n"
     ]
    }
   ],
   "source": [
    "arr = np.array([1,2,3,4,5,6])\n",
    "\n",
    "filter_arr = arr[arr>3]\n",
    "print(filter_arr)  # 输出: [4 5 6]"
   ]
  },
  {
   "cell_type": "code",
   "execution_count": null,
   "id": "5f5efb5f",
   "metadata": {},
   "outputs": [
    {
     "name": "stdout",
     "output_type": "stream",
     "text": [
      "[[4 5 6]]\n",
      "[[4 5 6]]\n",
      "[[4 5 6]]\n"
     ]
    }
   ],
   "source": [
    "# 创建一个二维数组\n",
    "arr_2d = np.array(\n",
    "    [[1, 2, 3],\n",
    "     [4, 5, 6],\n",
    "     [7, 8, 9]]\n",
    ")\n",
    "\n",
    "# 筛选所有行，其中第一个元素大于3且第二个元素小于8\n",
    "# 使用&和括号\n",
    "filtered_rows = arr_2d[\n",
    "    (arr_2d[:,0]>3)&\n",
    "    (arr_2d[:,1]<8)\n",
    "]\n",
    "print(filtered_rows)  # 输出: [[4 5 6]]\n",
    "\n",
    "# 使用numpy的where函数筛选\n",
    "filtered_rows_where = arr_2d[\n",
    "    np.where((arr_2d[:,0]>3) & \n",
    "    (arr_2d[:,1]<8))\n",
    "]\n",
    "print(filtered_rows_where)  # 输出: [[4 5 6]]\n",
    "\n",
    "# 使用numpy.logical_and函数筛选\n",
    "filtered_rows_logical_and = arr_2d[\n",
    "    np.logical_and(arr_2d[:,0]>3, arr_2d[:,1]<8)\n",
    "]\n",
    "print(filtered_rows_logical_and)  # 输出: [[4 5 6]]\n",
    "\n",
    "\n"
   ]
  },
  {
   "cell_type": "code",
   "execution_count": 15,
   "id": "3ae09176",
   "metadata": {},
   "outputs": [
    {
     "name": "stdout",
     "output_type": "stream",
     "text": [
      "[[1 2]\n",
      " [3 4]]\n",
      "[[5 6]\n",
      " [7 8]]\n"
     ]
    }
   ],
   "source": [
    "import numpy as np\n",
    "\n",
    "# 创建两个矩阵（数组）\n",
    "matrix1 = np.array([[1, 2], [3, 4]])\n",
    "matrix2 = np.array([[5, 6], [7, 8]])\n",
    "\n",
    "print(matrix1)\n",
    "print(matrix2)"
   ]
  },
  {
   "cell_type": "code",
   "execution_count": 19,
   "id": "d7ef11b6",
   "metadata": {},
   "outputs": [
    {
     "name": "stdout",
     "output_type": "stream",
     "text": [
      "[[ 58  64]\n",
      " [139 154]]\n"
     ]
    }
   ],
   "source": [
    "import numpy as np\n",
    "\n",
    "# 创建两个矩阵A和B\n",
    "# 假设A是2x3的矩阵，B是3x2的矩阵，这样它们就可以相乘了\n",
    "A = np.array([[1, 2, 3], [4, 5, 6]])\n",
    "B = np.array([[7, 8], [9, 10], [11, 12]])\n",
    "\n",
    "# 使用@符号进行矩阵乘法\n",
    "C = A @ B\n",
    "# 或者使用numpy.matmul()函数，效果一样\n",
    "# C = np.matmul(A, B)\n",
    "\n",
    "print(C)\n",
    "# 输出将会是：\n",
    "# [[ 58  64]\n",
    "#  [139 154]]\n",
    "# 这就是A和B“跳舞”后的新队形C"
   ]
  },
  {
   "cell_type": "code",
   "execution_count": 21,
   "id": "e51def28",
   "metadata": {},
   "outputs": [
    {
     "name": "stdout",
     "output_type": "stream",
     "text": [
      "Indices of elements greater than 3: (array([3, 4, 5], dtype=int64),)\n",
      "Values greater than 3: [4 5 6]\n"
     ]
    },
    {
     "ename": "NameError",
     "evalue": "name 'True_indices' is not defined",
     "output_type": "error",
     "traceback": [
      "\u001b[1;31m---------------------------------------------------------------------------\u001b[0m",
      "\u001b[1;31mNameError\u001b[0m                                 Traceback (most recent call last)",
      "Cell \u001b[1;32mIn[21], line 16\u001b[0m\n\u001b[0;32m     12\u001b[0m \u001b[38;5;28mprint\u001b[39m(\u001b[38;5;124m\"\u001b[39m\u001b[38;5;124mValues greater than 3:\u001b[39m\u001b[38;5;124m\"\u001b[39m, filtered_values)\n\u001b[0;32m     15\u001b[0m \u001b[38;5;66;03m# 如果你想要同时获取True和False条件下的索引（尽管这在这个场景下可能不常见）\u001b[39;00m\n\u001b[1;32m---> 16\u001b[0m true_indices, false_indices \u001b[38;5;241m=\u001b[39m np\u001b[38;5;241m.\u001b[39mwhere(arr \u001b[38;5;241m>\u001b[39m \u001b[38;5;241m3\u001b[39m, [True_indices, False_indices])\n\u001b[0;32m     17\u001b[0m \u001b[38;5;66;03m# 注意：上面的代码实际上不会按预期工作，因为np.where()不是设计来这样使用的。\u001b[39;00m\n\u001b[0;32m     18\u001b[0m \u001b[38;5;66;03m# 正确的做法是仅使用condition参数，或者如果你有x和y数组，则使用它们来根据条件替换值。\u001b[39;00m\n\u001b[0;32m     19\u001b[0m \n\u001b[0;32m     20\u001b[0m \u001b[38;5;66;03m# 一个更实际的例子，使用x和y来替换值\u001b[39;00m\n\u001b[0;32m     21\u001b[0m arr_replaced \u001b[38;5;241m=\u001b[39m np\u001b[38;5;241m.\u001b[39mwhere(arr \u001b[38;5;241m>\u001b[39m \u001b[38;5;241m3\u001b[39m, \u001b[38;5;124m\"\u001b[39m\u001b[38;5;124mHigh\u001b[39m\u001b[38;5;124m\"\u001b[39m, \u001b[38;5;124m\"\u001b[39m\u001b[38;5;124mLow\u001b[39m\u001b[38;5;124m\"\u001b[39m)\n",
      "\u001b[1;31mNameError\u001b[0m: name 'True_indices' is not defined"
     ]
    }
   ],
   "source": [
    "import numpy as np\n",
    "\n",
    "# 创建一个数组\n",
    "arr = np.array([1, 2, 3, 4, 5, 6])\n",
    "\n",
    "# 使用 np.where() 找到所有大于3的元素的索引\n",
    "indices = np.where(arr > 3)\n",
    "print(\"Indices of elements greater than 3:\", indices)\n",
    "\n",
    "# 如果你想要基于条件获取实际的元素值\n",
    "filtered_values = arr[arr > 3]\n",
    "print(\"Values greater than 3:\", filtered_values)\n",
    "\n",
    "\n",
    "# 如果你想要同时获取True和False条件下的索引（尽管这在这个场景下可能不常见）\n",
    "true_indices, false_indices = np.where(arr > 3, [True_indices, False_indices])\n",
    "# 注意：上面的代码实际上不会按预期工作，因为np.where()不是设计来这样使用的。\n",
    "# 正确的做法是仅使用condition参数，或者如果你有x和y数组，则使用它们来根据条件替换值。\n",
    "\n",
    "# 一个更实际的例子，使用x和y来替换值\n",
    "arr_replaced = np.where(arr > 3, \"High\", \"Low\")\n",
    "print(\"Replaced array with 'High' and 'Low':\", arr_replaced)\n",
    "# 注意：这里arr_replaced的类型将是'object'，因为NumPy无法推断出所有元素都是字符串\n",
    "\n",
    "# 对于多维数组\n",
    "arr_2d = np.array([[1, 2, 3], [4, 5, 6], [7, 8, 9]])\n",
    "# 找到所有第二列大于5的元素的行索引和列索引\n",
    "rows, cols = np.where(arr_2d[:, 1] > 5)\n",
    "print(\"Rows and cols where second column > 5:\", rows, cols)"
   ]
  },
  {
   "cell_type": "code",
   "execution_count": 22,
   "id": "40ac5470",
   "metadata": {},
   "outputs": [
    {
     "name": "stdout",
     "output_type": "stream",
     "text": [
      "9\n"
     ]
    }
   ],
   "source": [
    "arr = np.array([[1, 2, 3], [4, 5, 6], [7, 8, 9]])\n",
    "\n",
    "print(arr.max())"
   ]
  },
  {
   "cell_type": "code",
   "execution_count": null,
   "id": "8e993c00",
   "metadata": {},
   "outputs": [
    {
     "name": "stdout",
     "output_type": "stream",
     "text": [
      "平均值: 87.44444444444444\n",
      "每门课的平均值: [84.33333333 89.66666667 88.33333333]\n",
      "总和: 787\n",
      "每门课的总和: [253 269 265]\n",
      "按行的累计和:\n",
      " [[ 85 177 265]\n",
      " [ 78 168 253]\n",
      " [ 90 177 269]]\n",
      "所有成绩的连乘积: 266890240\n",
      "每位同学总成绩的连乘积: [688160 596700 720360]\n",
      "按行的累积积:\n",
      " [[    85   7820 688160]\n",
      " [    78   7020 596700]\n",
      " [    90   7830 720360]]\n",
      "中位数: 88.0\n",
      "每门课的中位数: [85. 90. 88.]\n",
      "标准差: 4.166296279833928\n",
      "每门课的标准差: [4.92160769 2.05480467 2.86744176]\n"
     ]
    }
   ],
   "source": [
    "import numpy as np\n",
    "\n",
    "# 创建一个二维数组，表示三位同学的三门课成绩\n",
    "arr = np.array([[85, 92, 88], [78, 90, 85], [90, 87, 92]])\n",
    "\n",
    "# 计算平均值\n",
    "mean_value = np.mean(arr)\n",
    "print(\"平均值:\", mean_value)\n",
    "# 输出: 平均值: 87.44444\n",
    "\n",
    "# 计算每门课的平均值\n",
    "mean_per_subject = np.mean(arr, axis=0)\n",
    "print(\"每门课的平均值:\", mean_per_subject)\n",
    "# 输出: 每门课的平均值: [84.33 89.67 88.33]\n",
    "\n",
    "# 计算总和\n",
    "sum_value = np.sum(arr)\n",
    "print(\"总和:\", sum_value)\n",
    "# 输出: 总和: 787\n",
    "\n",
    "# 计算每门课的总和\n",
    "sum_per_subject = np.sum(arr, axis=0)\n",
    "print(\"每门课的总和:\", sum_per_subject)\n",
    "# 输出: 每门课的总和: [253 269 265]\n",
    "\n",
    "# 计算累计和\n",
    "cumsum_value = np.cumsum(arr, axis=1)\n",
    "print(\"按行的累计和:\\n\", cumsum_value)\n",
    "# 输出:\n",
    "# [[ 85 177 265]\n",
    "#  [ 78 168 253]\n",
    "#  [ 90 177 269]]\n",
    "\n",
    "# 计算连乘积\n",
    "prod_all = np.prod(arr)\n",
    "print(\"所有成绩的连乘积:\", prod_all)\n",
    "# 输出: 所有成绩的连乘积: 266890240\n",
    "\n",
    "# 计算每位同学总成绩连乘积\n",
    "prod_per_student = np.prod(arr, axis=1)\n",
    "print(\"每位同学总成绩的连乘积:\", prod_per_student)\n",
    "# 输出: 每位同学总成绩的连乘积: [688160 596700 720360]\n",
    "\n",
    "# 计算累积积\n",
    "cumprod_value = np.cumprod(arr, axis=1)\n",
    "print(\"按行的累积积:\\n\", cumprod_value)\n",
    "# 输出:\n",
    "# [[  85   7820  687360]\n",
    "#  [  78   7020  596700]\n",
    "#  [  90   7830  720360]]\n",
    "\n",
    "# 计算中位数\n",
    "median_value = np.median(arr)\n",
    "print(\"中位数:\", median_value)\n",
    "# 输出: 中位数: 88.0\n",
    "\n",
    "# 计算每门课的中位数\n",
    "median_per_subject = np.median(arr, axis=0)\n",
    "print(\"每门课的中位数:\", median_per_subject)\n",
    "# 输出: 每门课的中位数: [85. 90. 88.]\n",
    "\n",
    "# 计算标准差\n",
    "std_value = np.std(arr)\n",
    "print(\"标准差:\", std_value)\n",
    "# 输出: 标准差: 4.166296279833928\n",
    "\n",
    "# 计算每门课的标准差\n",
    "std_per_subject = np.std(arr, axis=0)\n",
    "print(\"每门课的标准差:\", std_per_subject)\n",
    "# 输出: 每门课的标准差: [4.92160769 2.05480467 2.86744176]"
   ]
  },
  {
   "cell_type": "code",
   "execution_count": 27,
   "id": "f5d6899b",
   "metadata": {},
   "outputs": [
    {
     "name": "stdout",
     "output_type": "stream",
     "text": [
      "加法运算结果：\n",
      " [[ 6  6  6  6  6]\n",
      " [16 16 16 16 16]]\n"
     ]
    }
   ],
   "source": [
    "import numpy as np\n",
    "\n",
    "# 创建两个数组\n",
    "array1 = np.array([\n",
    "    [1, 2, 3, 4, 5],\n",
    "    [6, 7, 8, 9, 10]\n",
    "])\n",
    "array2 = np.array([\n",
    "    [5, 4, 3, 2, 1],\n",
    "    [10, 9, 8, 7, 6]\n",
    "])\n",
    "\n",
    "# 进行数组加法运算\n",
    "result_array = array1 + array2\n",
    "\n",
    "# 打印结果，查看加法运算后的数组\n",
    "print(\"加法运算结果：\\n\", result_array)\n",
    "\n",
    "# 使用np.savetxt保存结果到文本文件\n",
    "# 假设我们要将结果保存到名为'result.txt'的文件中\n",
    "np.savetxt(\"result.txt\", result_array, fmt=\"%d\", delimiter=\",\", newline=\"\\n\")\n",
    "\n",
    "# 注意：fmt参数指定了每个元素的格式，这里是整数'%d'\n",
    "# delimiter参数指定了元素之间的分隔符，这里是逗号','\n",
    "# newline参数指定了每行结束后的换行符，这里是换行符'\\n'\n",
    "# 这些参数可以根据需要进行调整"
   ]
  },
  {
   "cell_type": "code",
   "execution_count": 29,
   "id": "dbe06695",
   "metadata": {},
   "outputs": [],
   "source": [
    "np.savetxt(\n",
    "    \"result_with_header.txt\",\n",
    "    result_array,\n",
    "    fmt=\"%d\",\n",
    "    delimiter=\",\",\n",
    "    header=\"这是加法运算的结果\",\n",
    "    comments=\"# \",\n",
    ")"
   ]
  },
  {
   "cell_type": "code",
   "execution_count": 32,
   "id": "bc160370",
   "metadata": {},
   "outputs": [
    {
     "name": "stdout",
     "output_type": "stream",
     "text": [
      "[[ 6  6  6  6  6]\n",
      " [16 16 16 16 16]]\n"
     ]
    }
   ],
   "source": [
    "# 使用loadtxt加载之前保存的数组\n",
    "# 根据保存时指定的格式和分隔符来加载\n",
    "loaded_arr = np.loadtxt(\"result.txt\", delimiter=\",\", dtype=np.int32)\n",
    "\n",
    "# 如果你保存时没有指定fmt或者delimiter，这里也需要相应地调整\n",
    "# 比如，如果默认分隔符是空格，且没有指定fmt\n",
    "# loaded_arr = np.loadtxt('array_data_no_fmt.txt', dtype=float)\n",
    "\n",
    "# 打印加载的数组来验证\n",
    "print(loaded_arr)"
   ]
  },
  {
   "cell_type": "code",
   "execution_count": null,
   "id": "a4656061",
   "metadata": {},
   "outputs": [],
   "source": []
  }
 ],
 "metadata": {
  "kernelspec": {
   "display_name": "pytorch",
   "language": "python",
   "name": "python3"
  },
  "language_info": {
   "codemirror_mode": {
    "name": "ipython",
    "version": 3
   },
   "file_extension": ".py",
   "mimetype": "text/x-python",
   "name": "python",
   "nbconvert_exporter": "python",
   "pygments_lexer": "ipython3",
   "version": "3.11.8"
  }
 },
 "nbformat": 4,
 "nbformat_minor": 5
}
