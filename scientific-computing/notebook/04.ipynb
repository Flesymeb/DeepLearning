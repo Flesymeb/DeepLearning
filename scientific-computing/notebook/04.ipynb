{
 "cells": [
  {
   "cell_type": "code",
   "execution_count": 4,
   "id": "f7258cdf",
   "metadata": {},
   "outputs": [
    {
     "name": "stdout",
     "output_type": "stream",
     "text": [
      "   2\n",
      "2 x + 3 x + 1\n",
      "66\n",
      "   2\n",
      "2 x + 4 x + 3\n",
      "   3     2\n",
      "2 x + 7 x + 7 x + 2\n"
     ]
    }
   ],
   "source": [
    "import numpy as np\n",
    "\n",
    "# 创建一个多项式 2x^2 + 3x + 1\n",
    "p = np.poly1d([2, 3, 1])\n",
    "\n",
    "# 打印多项式\n",
    "print(p)\n",
    "\n",
    "# 计算多项式在x=5时的值\n",
    "print(p(5))\n",
    "\n",
    "# 多项式的加法\n",
    "q = np.poly1d([1, 2])  # 多项式 x + 2\n",
    "r = p + q\n",
    "print(r)  # 输出新的多项式\n",
    "\n",
    "# 多项式的乘法\n",
    "s = p * q\n",
    "print(s)  # 输出新的多项式"
   ]
  },
  {
   "cell_type": "code",
   "execution_count": 17,
   "id": "e160e5ae",
   "metadata": {},
   "outputs": [
    {
     "name": "stdout",
     "output_type": "stream",
     "text": [
      "p + q =    2\n",
      "2 x + 4 x + 3\n",
      "p - q =    2\n",
      "2 x + 2 x - 1\n",
      "p * q =    3     2\n",
      "2 x + 7 x + 7 x + 2\n",
      "q / p =  \n",
      "0\n",
      "余数 =  \n",
      "1 x + 2\n",
      "q / p (only quotient) =  \n",
      "0\n"
     ]
    }
   ],
   "source": [
    "import numpy as np\n",
    "# 创建两个多项式\n",
    "p = np.poly1d([2, 3, 1])  # 2x^2 + 3x + 1\n",
    "q = np.poly1d([1, 2])  # x + 2\n",
    "\n",
    "# 多项式加法\n",
    "p_plus_q = p + q\n",
    "print(\"p + q =\", p_plus_q)\n",
    "# 多项式减法\n",
    "p_minus_q = p - q\n",
    "print(\"p - q =\", p_minus_q)\n",
    "# 多项式乘法\n",
    "p_times_q = p * q\n",
    "print(\"p * q =\", p_times_q)\n",
    "\n",
    "# 多项式除法\n",
    "# 除法在多项式运算中比较特殊，因为除法的结果可能包括商和余数\n",
    "# numpy.poly1d提供了divmod函数，用于同时返回商和余数\n",
    "\n",
    "q_div_p, remainder = np.polydiv(q, p)\n",
    "print(\"q / p =\", q_div_p)\n",
    "print(\"余数 =\", remainder)\n",
    "\n",
    "# 如果对于除法你只需要商（不考虑余数），可以直接使用div函数，但是poly1d中没有直接的div方法，所以需要手动计算\n",
    "q_div_p_only_quotient = np.polydiv(q, p)[0]\n",
    "print(\"q / p (only quotient) =\", q_div_p_only_quotient)"
   ]
  },
  {
   "cell_type": "code",
   "execution_count": 2,
   "id": "a8e32130",
   "metadata": {},
   "outputs": [
    {
     "name": "stdout",
     "output_type": "stream",
     "text": [
      "一阶微分:  \n",
      "4 x + 3\n",
      "二阶微分:  \n",
      "4\n"
     ]
    }
   ],
   "source": [
    "import numpy as np\n",
    "\n",
    "# 创建一个多项式\n",
    "p = np.poly1d([2, 3, 1])  # 表示 2x^2 + 3x + 1\n",
    "\n",
    "# 对多项式进行一阶微分\n",
    "dp = p.deriv()\n",
    "print(\"一阶微分:\", dp)\n",
    "\n",
    "# 对多项式进行二阶微分\n",
    "ddp = p.deriv(2)\n",
    "print(\"二阶微分:\", ddp)"
   ]
  },
  {
   "cell_type": "code",
   "execution_count": 4,
   "id": "b63b5070",
   "metadata": {},
   "outputs": [
    {
     "name": "stdout",
     "output_type": "stream",
     "text": [
      "一阶积分 (积分常数为0):\n",
      "         3       2\n",
      "0.6667 x + 1.5 x + 1 x\n",
      "一阶积分 (积分常数为1):\n",
      "         3       2\n",
      "0.6667 x + 1.5 x + 1 x + 1\n",
      "二阶积分 (积分常数为0):\n",
      "         4       3       2\n",
      "0.1667 x + 0.5 x + 0.5 x\n",
      "二阶积分 (总积分常数为2):\n",
      "         4       3       2\n",
      "0.1667 x + 0.5 x + 0.5 x + 2 x + 2\n"
     ]
    }
   ],
   "source": [
    "# 对多项式进行一阶积分\n",
    "ip = p.integ()\n",
    "print(\"一阶积分 (积分常数为0):\\n\", ip)\n",
    "\n",
    "# 对多项式进行一阶积分，并指定积分常数为1\n",
    "ip_k1 = p.integ(k=1)\n",
    "print(\"一阶积分 (积分常数为1):\\n\", ip_k1)\n",
    "\n",
    "# 注意：连续积分时，积分常数会累加\n",
    "ipp = p.integ(2)  # 这相当于两次应用.integ(k=0)\n",
    "print(\"二阶积分 (积分常数为0):\\n\", ipp)\n",
    "\n",
    "ipp_k2 = p.integ(2, k=2)  # 这相当于两次应用.integ()，但总积分常数为2\n",
    "print(\"二阶积分 (总积分常数为2):\\n\", ipp_k2)"
   ]
  },
  {
   "cell_type": "code",
   "execution_count": 5,
   "id": "77da2fcf",
   "metadata": {},
   "outputs": [
    {
     "name": "stdout",
     "output_type": "stream",
     "text": [
      "多项式的根 = [-1.  -0.5]\n"
     ]
    }
   ],
   "source": [
    "import numpy as np\n",
    "\n",
    "# 创建一个多项式 2x^2 + 3x + 1\n",
    "p = np.poly1d([2, 3, 1])\n",
    "# 获取多项式的系数\n",
    "coeffs = p.coef\n",
    "# 使用 numpy.roots() 找到多项式的根\n",
    "roots = np.roots(coeffs)\n",
    "print(\"多项式的根 =\", roots)"
   ]
  },
  {
   "cell_type": "code",
   "execution_count": 6,
   "id": "834aa1a3",
   "metadata": {},
   "outputs": [
    {
     "name": "stdout",
     "output_type": "stream",
     "text": [
      "x1=1.3247179572447898\n",
      "1.865174681370263e-13\n",
      "L=4\n"
     ]
    }
   ],
   "source": [
    "import numpy as np\n",
    "\n",
    "\n",
    "def f(x):\n",
    "    y = x**3 - x - 1  # 求根方程的表达式\n",
    "    return y\n",
    "\n",
    "\n",
    "def g(x):\n",
    "    y = 3 * x**2 - 1  # 求根方程的导函数\n",
    "    return y\n",
    "\n",
    "\n",
    "def main():\n",
    "    x_0 = 1.5  # 取初值\n",
    "    e = 10 ** (-9)  # 误差要求\n",
    "    L = 0  # 初始化迭代次数\n",
    "    while L < 100:  # 采用残差来判断\n",
    "        x1 = x_0 - f(x_0) / g(x_0)  # 迭代公式,x(n+1)=x(n)-f(x(n))/f'(x(n))\n",
    "        x_0 = x1\n",
    "        L = L + 1  # 统计迭代次数\n",
    "        if abs(f(x_0) - 0) < e:\n",
    "            break\n",
    "    print(f\"x1={x1}\")  # 输出数值解\n",
    "    print(f(x_0) - 0)  # 验证解的正确性\n",
    "    print(f\"L={L}\")  # 输出迭代次数\n",
    "\n",
    "\n",
    "if __name__ == \"__main__\":\n",
    "    main()"
   ]
  },
  {
   "cell_type": "code",
   "execution_count": 8,
   "id": "f7aaaaf2",
   "metadata": {},
   "outputs": [
    {
     "name": "stdout",
     "output_type": "stream",
     "text": [
      "拟合得到的多项式:          2\n",
      "-0.1607 x + 0.5007 x + 0.2214\n"
     ]
    },
    {
     "data": {
      "image/png": "[encoded data removed]",
      "text/plain": [
       "<Figure size 640x480 with 1 Axes>"
      ]
     },
     "metadata": {},
     "output_type": "display_data"
    }
   ],
   "source": [
    "import numpy as np\n",
    "import matplotlib.pyplot as plt\n",
    "\n",
    "# 设置中文字体（SimHei是黑体，Windows/Linux/Mac都可能支持）\n",
    "plt.rcParams[\"font.sans-serif\"] = [\"SimHei\"]  # 指定默认字体\n",
    "plt.rcParams[\"axes.unicode_minus\"] = False  # 解决负号显示为方块的问题\n",
    "\n",
    "# 示例数据\n",
    "x = np.array([0, 1, 2, 3, 4, 5])\n",
    "y = np.array([0, 0.8, 0.9, 0.1, -0.8, -1])\n",
    "\n",
    "# 多项式拟合\n",
    "deg = 2\n",
    "coeffs = np.polyfit(x, y, deg)\n",
    "p = np.poly1d(coeffs)\n",
    "\n",
    "# 打印拟合多项式\n",
    "print(\"拟合得到的多项式:\", p)\n",
    "\n",
    "# 生成拟合曲线\n",
    "x_fit = np.linspace(min(x), max(x), 100)\n",
    "y_fit = p(x_fit)\n",
    "\n",
    "# 绘图\n",
    "plt.scatter(x, y, label=\"原始数据\")\n",
    "plt.plot(x_fit, y_fit, color=\"red\", label=\"拟合曲线\")\n",
    "plt.xlabel(\"x\")\n",
    "plt.ylabel(\"y\")\n",
    "plt.title(\"多项式拟合示例\")\n",
    "plt.legend()\n",
    "plt.show()"
   ]
  },
  {
   "cell_type": "code",
   "execution_count": null,
   "id": "d315de2e",
   "metadata": {},
   "outputs": [],
   "source": []
  }
 ],
 "metadata": {
  "kernelspec": {
   "display_name": "pytorch",
   "language": "python",
   "name": "python3"
  },
  "language_info": {
   "codemirror_mode": {
    "name": "ipython",
    "version": 3
   },
   "file_extension": ".py",
   "mimetype": "text/x-python",
   "name": "python",
   "nbconvert_exporter": "python",
   "pygments_lexer": "ipython3",
   "version": "3.11.8"
  }
 },
 "nbformat": 4,
 "nbformat_minor": 5
}
