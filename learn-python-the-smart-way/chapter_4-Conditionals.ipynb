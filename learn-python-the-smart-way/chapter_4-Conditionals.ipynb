{
 "cells": [
  {
   "cell_type": "markdown",
   "id": "19975161",
   "metadata": {},
   "source": [
    "# Chapter04: Conditionals"
   ]
  },
  {
   "cell_type": "markdown",
   "id": "96f30c61",
   "metadata": {},
   "source": [
    "# if-else"
   ]
  },
  {
   "cell_type": "code",
   "execution_count": null,
   "id": "22f1e8b2",
   "metadata": {},
   "outputs": [
    {
     "name": "stdout",
     "output_type": "stream",
     "text": [
      "ABCG\n"
     ]
    }
   ],
   "source": [
    "def f(x):\n",
    "    print(\"A\", end=\"\")\n",
    "    if x == 0: \n",
    "        print(\"B\", end=\"\")\n",
    "        print(\"C\", end=\"\")\n",
    "    else:\n",
    "        print(\"D\", end=\"\")\n",
    "        if x == 1:\n",
    "            print(\"E\", end=\"\")\n",
    "        else:\n",
    "            print(\"F\", end=\"\")\n",
    "    print(\"G\")\n",
    "\n",
    "f(0)  # ABCG"
   ]
  },
  {
   "cell_type": "code",
   "execution_count": 5,
   "id": "67e7cea2",
   "metadata": {},
   "outputs": [
    {
     "name": "stdout",
     "output_type": "stream",
     "text": [
      "ADH\n"
     ]
    }
   ],
   "source": [
    "# if-elif-else 语句\n",
    "def f(x):\n",
    "    print(\"A\", end=\"\")\n",
    "    if x == 0:\n",
    "        print(\"B\", end=\"\")\n",
    "        print(\"C\", end=\"\")\n",
    "    elif x == 1:\n",
    "        print(\"D\", end=\"\")\n",
    "    else:\n",
    "        print(\"E\", end=\"\")\n",
    "        if x == 2:\n",
    "            print(\"F\", end=\"\")\n",
    "        else:\n",
    "            print(\"G\", end=\"\")\n",
    "    print(\"H\")\n",
    "\n",
    "f(1)  # ADH"
   ]
  },
  {
   "cell_type": "code",
   "execution_count": 8,
   "id": "f1dc6908",
   "metadata": {},
   "outputs": [
    {
     "name": "stdout",
     "output_type": "stream",
     "text": [
      "3\n",
      "9\n"
     ]
    }
   ],
   "source": [
    "# if-else 推导式 if-else expression\n",
    "def abs1(x):\n",
    "    return x if x >=0 else -x\n",
    "\n",
    "print(abs1(3))  # 3\n",
    "print(abs1(-9))  # 9"
   ]
  },
  {
   "cell_type": "code",
   "execution_count": 9,
   "id": "719a71fe",
   "metadata": {},
   "outputs": [
    {
     "name": "stdout",
     "output_type": "stream",
     "text": [
      "Bad request\n"
     ]
    }
   ],
   "source": [
    "# match-case 语句\n",
    "def http_error(status):\n",
    "    match status:\n",
    "        case 400:\n",
    "            return \"Bad request\"\n",
    "        case 404:\n",
    "            return \"Not found\"\n",
    "        case 418:\n",
    "            return \"I'm a teapot\"\n",
    "        case _:\n",
    "            return \"Something's wrong with the internet\"\n",
    "\n",
    "mystatus=400\n",
    "print(http_error(400))"
   ]
  }
 ],
 "metadata": {
  "kernelspec": {
   "display_name": "pytorch",
   "language": "python",
   "name": "python3"
  },
  "language_info": {
   "codemirror_mode": {
    "name": "ipython",
    "version": 3
   },
   "file_extension": ".py",
   "mimetype": "text/x-python",
   "name": "python",
   "nbconvert_exporter": "python",
   "pygments_lexer": "ipython3",
   "version": "3.11.8"
  }
 },
 "nbformat": 4,
 "nbformat_minor": 5
}
