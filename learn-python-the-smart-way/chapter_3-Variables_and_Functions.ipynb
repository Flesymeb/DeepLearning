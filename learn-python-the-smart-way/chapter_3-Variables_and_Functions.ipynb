{
 "cells": [
  {
   "cell_type": "markdown",
   "id": "ae88d09a",
   "metadata": {},
   "source": [
    "# Chapter03: Variables_and_Functions"
   ]
  },
  {
   "cell_type": "markdown",
   "id": "fe9eb543",
   "metadata": {},
   "source": [
    "# 变量 Variables"
   ]
  },
  {
   "cell_type": "code",
   "execution_count": 4,
   "id": "72b66eae",
   "metadata": {},
   "outputs": [
    {
     "name": "stdout",
     "output_type": "stream",
     "text": [
      "['False', 'None', 'True', 'and', 'as', 'assert', 'async', 'await', 'break', 'class', 'continue', 'def', 'del', 'elif', 'else', 'except', 'finally', 'for', 'from', 'global', 'if', 'import', 'in', 'is', 'lambda', 'nonlocal', 'not', 'or', 'pass', 'raise', 'return', 'try', 'while', 'with', 'yield']\n"
     ]
    }
   ],
   "source": [
    "# 保留字\n",
    "import keyword\n",
    "print(keyword.kwlist)  # 打印所有保留字"
   ]
  },
  {
   "cell_type": "code",
   "execution_count": 5,
   "id": "d4ed34d1",
   "metadata": {},
   "outputs": [
    {
     "name": "stdout",
     "output_type": "stream",
     "text": [
      "a=2, b=2, c=2\n",
      "a=1, b=2, c=3\n"
     ]
    }
   ],
   "source": [
    "# 多变量赋值\n",
    "a = b = c = 2\n",
    "print(f\"a={a}, b={b}, c={c}\")\n",
    "\n",
    "a,b,c = 1, 2, 3\n",
    "print(f\"a={a}, b={b}, c={c}\")"
   ]
  },
  {
   "cell_type": "markdown",
   "id": "d6e85467",
   "metadata": {},
   "source": [
    "## 函数 Functions\n",
    "- 函数是一个名字，代表一段代码块，可以重复使用。\n",
    "- 函数由两个部分组成：函数定义和函数调用。 "
   ]
  },
  {
   "cell_type": "code",
   "execution_count": 6,
   "id": "639023e6",
   "metadata": {},
   "outputs": [
    {
     "name": "stdout",
     "output_type": "stream",
     "text": [
      "x=1, y=2, z=3\n"
     ]
    }
   ],
   "source": [
    "# 多返回值\n",
    "def func():\n",
    "    return 1, 2, 3\n",
    "\n",
    "x, y, z = func()\n",
    "print(f\"x={x}, y={y}, z={z}\")"
   ]
  },
  {
   "cell_type": "markdown",
   "id": "38b4fe40",
   "metadata": {},
   "source": [
    "## 语句和表达式 Statements and Expressions\n",
    "- 表达式是一个值的计算结果，可以是一个数字、字符串或其他类型。\n",
    "- 语句不是值，不能被打印，但是可以执行某些操作，如赋值、循环等。"
   ]
  },
  {
   "cell_type": "markdown",
   "id": "05d919a4",
   "metadata": {},
   "source": [
    "## 内置函数 Built-in Functions"
   ]
  },
  {
   "cell_type": "code",
   "execution_count": 7,
   "id": "20839d3e",
   "metadata": {},
   "outputs": [
    {
     "name": "stdout",
     "output_type": "stream",
     "text": [
      "True\n",
      "1.0\n",
      "1\n"
     ]
    }
   ],
   "source": [
    "#类型转换\n",
    "print(bool(1))  # True\n",
    "print(float(1))  # 1.0\n",
    "print(int(1.6))  # 1"
   ]
  },
  {
   "cell_type": "code",
   "execution_count": 16,
   "id": "931c2033",
   "metadata": {},
   "outputs": [
    {
     "name": "stdout",
     "output_type": "stream",
     "text": [
      "1\n",
      "3\n",
      "2\n",
      "8\n",
      "2.354\n"
     ]
    }
   ],
   "source": [
    "#基本数学操作\n",
    "print(abs(-1))  # 1\n",
    "print(max(2,3))\n",
    "print(min(2,3))\n",
    "print(pow(2,3))  # 8\n",
    "\n",
    "print(round(2.35444,3))  # 2 round是取最近的整数，不全是四舍五入"
   ]
  }
 ],
 "metadata": {
  "kernelspec": {
   "display_name": "pytorch",
   "language": "python",
   "name": "python3"
  },
  "language_info": {
   "codemirror_mode": {
    "name": "ipython",
    "version": 3
   },
   "file_extension": ".py",
   "mimetype": "text/x-python",
   "name": "python",
   "nbconvert_exporter": "python",
   "pygments_lexer": "ipython3",
   "version": "3.11.8"
  }
 },
 "nbformat": 4,
 "nbformat_minor": 5
}
