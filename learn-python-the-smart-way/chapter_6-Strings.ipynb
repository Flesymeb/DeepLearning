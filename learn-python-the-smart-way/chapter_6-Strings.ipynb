{
 "cells": [
  {
   "cell_type": "markdown",
   "id": "dddde1db",
   "metadata": {},
   "source": [
    "# Chapter06: Strings"
   ]
  },
  {
   "cell_type": "markdown",
   "id": "b7d363b5",
   "metadata": {},
   "source": [
    "## 一些和字符串相关的函数"
   ]
  },
  {
   "cell_type": "code",
   "execution_count": 4,
   "id": "664930b0",
   "metadata": {},
   "outputs": [
    {
     "name": "stdout",
     "output_type": "stream",
     "text": [
      "聪明办法学 Python 第二版的课程简称是 'P2S'\n",
      "聪明办法学 Python 第二版的课程简称是 \"P2S\"\n",
      "聪明办法学 Python 第二版的课程简称是 \"P2S\"\n",
      "聪明办法学 Python 第二版的课程简称是 \"P2S\"\n",
      "\t课程内容包括：\n",
      "\t1. 基础语法\n",
      "\t2. 数据结构\n",
      "\t3. 函数与模块\n"
     ]
    }
   ],
   "source": [
    "# 两种字符串表示法\n",
    "\n",
    "print(\"聪明办法学 Python 第二版的课程简称是 'P2S'\")\n",
    "\n",
    "# 使用三重引号\n",
    "print('''聪明办法学 Python 第二版的课程简称是 \"P2S\"''')\n",
    "\n",
    "# 使用转义字符\n",
    "print(\"聪明办法学 Python 第二版的课程简称是 \\\"P2S\\\"\")\n",
    "\n",
    "# \\t 制表符\n",
    "print(\"聪明办法学 Python 第二版的课程简称是 \\\"P2S\\\"\\n\\t课程内容包括：\\n\\t1. 基础语法\\n\\t2. 数据结构\\n\\t3. 函数与模块\")"
   ]
  },
  {
   "cell_type": "markdown",
   "id": "e14ff108",
   "metadata": {},
   "source": []
  },
  {
   "cell_type": "code",
   "execution_count": 8,
   "id": "c68c2422",
   "metadata": {},
   "outputs": [
    {
     "name": "stdout",
     "output_type": "stream",
     "text": [
      "Data\tWhale\n",
      "Data    Whale\n",
      "False\n",
      "'Data\\tWhale'\n",
      "'Data    Whale'\n"
     ]
    }
   ],
   "source": [
    "# repr()和print()的区别\n",
    "s1 = \"Data\\tWhale\"\n",
    "s2 = \"Data    Whale\"\n",
    "\n",
    "print(s1)  # 输出：Data\tWhale\n",
    "print(s2)  # 输出：Data Whale\n",
    "print(s1 == s2)  # 输出：False\n",
    "\n",
    "\n",
    "print(repr(s1))  # 输出：'Data\\tWhale'\n",
    "print(repr(s2))  # 输出：'Data    Whale'"
   ]
  },
  {
   "cell_type": "code",
   "execution_count": 21,
   "id": "dbb36954",
   "metadata": {},
   "outputs": [
    {
     "name": "stdout",
     "output_type": "stream",
     "text": [
      "abcdefghijklmnopqrstuvwxyzABCDEFGHIJKLMNOPQRSTUVWXYZ\n",
      "abcdefghijklmnopqrstuvwxyz\n",
      "abcdefghijklmnopqrstuvwxyz\n",
      "ABCDEFGHIJKLMNOPQRSTUVWXYZ\n",
      "ABCDEFGHIJKLMNOPQRSTUVWXYZ\n",
      "0123456789\n",
      "!\"#$%&'()*+,-./:;<=>?@[\\]^_`{|}~\n",
      "0123456789abcdefghijklmnopqrstuvwxyzABCDEFGHIJKLMNOPQRSTUVWXYZ!\"#$%&'()*+,-./:;<=>?@[\\]^_`{|}~ \t\n",
      "\u000b\f\n",
      " \t\n",
      "\u000b\f\n",
      "' \\t\\n\\r\\x0b\\x0c'\n"
     ]
    }
   ],
   "source": [
    "# 一些字符串常量\n",
    "import string\n",
    "print(string.ascii_letters)  # 输出：所有字母（大写和小写）\n",
    "\n",
    "print(string.ascii_letters[:26])  # 输出：小写字母\n",
    "print(string.ascii_lowercase)  # 输出：小写字母\n",
    "\n",
    "print(string.ascii_letters[26:])  # 输出：大写字母\n",
    "print(string.ascii_uppercase)  # 输出：大写字母\n",
    "\n",
    "print(string.digits)  # 输出：数字字符 '0123456789'\n",
    "\n",
    "print(string.punctuation)  # 输出：标点符号字符\n",
    "\n",
    "print(string.printable)  # 输出：所有可打印字符，包括字母、数字、标点符号和空格\n",
    "\n",
    "print(string.whitespace)  # 输出：空白字符，包括空格、制表符、换行符等\n",
    "print(repr(string.whitespace))  # 输出：' \\t\\n\\r\\x0b\\x0c'"
   ]
  },
  {
   "cell_type": "code",
   "execution_count": 36,
   "id": "8f7e7b50",
   "metadata": {},
   "outputs": [
    {
     "name": "stdout",
     "output_type": "stream",
     "text": [
      "Data Whale is a great course!\n",
      "Data WhaleData Whale\n",
      "Data WhaleData WhaleData Whale\n",
      "D\n",
      "ata Whale\n",
      "Data Whal\n",
      "e\n",
      "elahW ataD\n",
      "elahW ataD\n",
      "elahW ataD\n",
      "Dah\n",
      "True\n",
      "True\n",
      "True\n"
     ]
    }
   ],
   "source": [
    "# 字符串运算\n",
    "s = \"Data Whale\"\n",
    "print(s + \" is a great course!\")  # 字符串连接\n",
    "\n",
    "print(s * 2)  # 字符串重复\n",
    "n = 3\n",
    "print(s * n)  # 字符串重复 n 次\n",
    "print(s[0])  # 访问字符串的第一个字符\n",
    "print(s[1:])  # 切片，访问字符串的子串\n",
    "print(s[:-1])  # 切片，访问字符串的倒序\n",
    "print(s[len(s)-1])\n",
    "\n",
    "print(s[::-1])  # 倒序访问字符串\n",
    "print(\"\".join(reversed(s)))  # 使用 join 和 reversed 倒序访问字符串\n",
    "\n",
    "def reverseString(s):\n",
    "    return s[::-1]\n",
    "print(reverseString(s))  # 调用自定义函数倒序访问字符串\n",
    "\n",
    "print(s[:9:3])\n",
    "\n",
    "\n",
    "print(\"ring\" in \"strings\")\n",
    "print(\"\" in \"NO\")\n",
    "print(\"Data Whale\" in \"Data Whale\")  # 检查子串是否存在"
   ]
  },
  {
   "cell_type": "code",
   "execution_count": 38,
   "id": "0ef99fbe",
   "metadata": {},
   "outputs": [
    {
     "name": "stdout",
     "output_type": "stream",
     "text": [
      "Index: 0, Character: D\n",
      "Index: 1, Character: a\n",
      "Index: 2, Character: t\n",
      "Index: 3, Character: a\n",
      "Index: 4, Character:  \n",
      "Index: 5, Character: W\n",
      "Index: 6, Character: h\n",
      "Index: 7, Character: a\n",
      "Index: 8, Character: l\n",
      "Index: 9, Character: e\n"
     ]
    }
   ],
   "source": [
    "# 遍历\n",
    "for idx,c in enumerate(s):\n",
    "    print(f\"Index: {idx}, Character: {c}\")"
   ]
  },
  {
   "cell_type": "code",
   "execution_count": 39,
   "id": "24341f94",
   "metadata": {},
   "outputs": [
    {
     "name": "stdout",
     "output_type": "stream",
     "text": [
      "D - e\n",
      "a - l\n",
      "t - a\n",
      "a - h\n",
      "  - W\n",
      "W -  \n",
      "h - a\n",
      "a - t\n",
      "l - a\n",
      "e - D\n"
     ]
    }
   ],
   "source": [
    "for a,b in zip(s,s[::-1]):\n",
    "    print(f\"{a} - {b}\")"
   ]
  },
  {
   "cell_type": "code",
   "execution_count": null,
   "id": "6bea4921",
   "metadata": {},
   "outputs": [
    {
     "name": "stdout",
     "output_type": "stream",
     "text": [
      "learn\n",
      "python\n",
      "the\n",
      "smart\n",
      "way\n",
      "2nd\n",
      "edition\n"
     ]
    }
   ],
   "source": [
    "# 使用split()来循环\n",
    "class_name = \"learn python the smart way 2nd edition\"\n",
    "for word in class_name.split():\n",
    "    print(word)\n"
   ]
  },
  {
   "cell_type": "code",
   "execution_count": 41,
   "id": "f5077c1c",
   "metadata": {},
   "outputs": [
    {
     "name": "stdout",
     "output_type": "stream",
     "text": [
      "Prepare To Be Smart， 我们希望同学们学习这个教程后能学习到聪明的办法，从容的迈入人工智能的后续学习。\n"
     ]
    }
   ],
   "source": [
    "# 用 splitlines() 来循环\n",
    "# 跟上面一样，class_info.splitlines() 也会产生一个列表，但不存储任何内容\n",
    "\n",
    "class_info = \"\"\"\\\n",
    "聪明办法学 Python 第二版是 Datawhale 基于第一版教程的一次大幅更新。我们尝试在教程中融入更多计算机科学与人工智能相关的内容，制作“面向人工智能的 Python 专项教程”。\n",
    "\n",
    "我们的课程简称为 P2S，有两个含义：\n",
    "\n",
    "Learn Python The Smart Way V2，“聪明办法学 Python 第二版”的缩写。\n",
    "Prepare To Be Smart， 我们希望同学们学习这个教程后能学习到聪明的办法，从容的迈入人工智能的后续学习。\n",
    "\"\"\"\n",
    "for line in class_info.splitlines():\n",
    "    if (line.startswith(\"Prepare To Be Smart\")):\n",
    "        print(line)"
   ]
  },
  {
   "cell_type": "code",
   "execution_count": 45,
   "id": "63fc3710",
   "metadata": {},
   "outputs": [
    {
     "name": "stdout",
     "output_type": "stream",
     "text": [
      "True False\n",
      "True False\n",
      "True False\n",
      "True False\n"
     ]
    }
   ],
   "source": [
    "#eg：回文串判断\n",
    "def is_palindrome1(s):\n",
    "    s = s.lower()  # 转换为小写\n",
    "    return s == s[::-1]  # 判断字符串是否等于其倒序\n",
    "\n",
    "def is_palindrome2(s):\n",
    "    for i in range(len(s)):\n",
    "        if(s[i]!= s[len(s)-1-i]):\n",
    "            return False\n",
    "    return True  # 如果没有发现不相等的字符，则是回文串\n",
    "\n",
    "def is_palindrome3(s):\n",
    "    for i in range(len(s)):\n",
    "        if (s[i] != s[-1-i]):\n",
    "            return False\n",
    "\n",
    "    return True  # 如果没有发现不相等的字符，则是回文串\n",
    "\n",
    "def is_palindrome4(s):\n",
    "    while(len(s) > 1):\n",
    "        if (s[0]!=s[-1]):\n",
    "            return False\n",
    "        s = s[1:-1]  # 去掉首尾字符\n",
    "    return True  # 如果没有发现不相等的字符，则是回文串\n",
    "\n",
    "\n",
    "print(is_palindrome1(\"abcba\"), is_palindrome1(\"abca\"))\n",
    "print(is_palindrome2(\"abcba\"), is_palindrome2(\"abca\"))\n",
    "print(is_palindrome3(\"abcba\"), is_palindrome3(\"abca\"))\n",
    "print(is_palindrome4(\"abcba\"), is_palindrome4(\"abca\"))"
   ]
  },
  {
   "cell_type": "code",
   "execution_count": 47,
   "id": "9583e790",
   "metadata": {},
   "outputs": [
    {
     "name": "stdout",
     "output_type": "stream",
     "text": [
      "你好，Hyoung！你的名字长度是6个字符。\n"
     ]
    }
   ],
   "source": [
    "# 一些和字符串相关的函数\n",
    "import string\n",
    "# str()和len()函数\n",
    "name = input(\"请输入你的名字：\")\n",
    "print(\"你好，\" + name + \"！你的名字长度是\" + str(len(name)) + \"个字符。\")\n"
   ]
  },
  {
   "cell_type": "code",
   "execution_count": 49,
   "id": "31afad2c",
   "metadata": {},
   "outputs": [
    {
     "name": "stdout",
     "output_type": "stream",
     "text": [
      "A\n",
      "65\n",
      "a\n",
      "b\n"
     ]
    }
   ],
   "source": [
    "# chr() 和 ord()\n",
    "print(chr(65))  # 输出：A\n",
    "print(ord('A'))  # 输出：65\n",
    "\n",
    "print(chr(97))  # 输出：a\n",
    "print(chr(ord('a')+1)) "
   ]
  },
  {
   "cell_type": "code",
   "execution_count": 54,
   "id": "b0c3849f",
   "metadata": {},
   "outputs": [
    {
     "name": "stdout",
     "output_type": "stream",
     "text": [
      "表达式 '3 + 5' 的结果是：8\n",
      "['p', 2, 's']\n",
      "<class 'list'>\n"
     ]
    }
   ],
   "source": [
    "# eval()函数\n",
    "def eval_example():\n",
    "    expression = \"3 + 5\"\n",
    "    result = eval(expression)\n",
    "    print(f\"表达式 '{expression}' 的结果是：{result}\")\n",
    "\n",
    "eval_example()  # 调用函数执行 eval 示例\n",
    "\n",
    "\n",
    "# 推荐使用 ast.literal_eval()\n",
    "\n",
    "import ast\n",
    "s_safe = \"['p', 2, 's']\"\n",
    "s_safe_result = ast.literal_eval(s_safe)\n",
    "print(s_safe_result)\n",
    "print(type(s_safe_result))"
   ]
  },
  {
   "cell_type": "code",
   "execution_count": 56,
   "id": "bf328049",
   "metadata": {},
   "outputs": [
    {
     "name": "stdout",
     "output_type": "stream",
     "text": [
      "  s   isalnum  isalpha  isdigit  islower  isspace  isupper\n",
      " ABCD True True False False True False False True \n",
      " ABcd True True False False False False False True \n",
      " abcd True True False True False False False True \n",
      " ab12 True False False True False False False True \n",
      " 1234 True False True False False False False True \n",
      "      False False False False False True False True \n",
      " AB?! False False False False True False False True \n"
     ]
    }
   ],
   "source": [
    "# 一些字符串方法\n",
    "def p(test):\n",
    "    print(\"True\"if test else \"False\",end=' ')\n",
    "\n",
    "def printRow(s):\n",
    "    print(\" \"+s+\" \",end='')\n",
    "    p(s.isalnum()) # 是否只包含字母和数字\n",
    "    p(s.isalpha()) # 是否只包含字母\n",
    "    p(s.isdigit()) # 是否只包含数字\n",
    "    p(s.islower()) # 是否只包含小写字母\n",
    "    p(s.isupper()) # 是否只包含大写字母\n",
    "    p(s.isspace()) # 是否只包含空白字符\n",
    "    p(s.istitle()) # 是否是标题格式（每个单词首字母大写）\n",
    "    p(s.isprintable()) # 是否所有字符都是可打印的\n",
    "    print()\n",
    "\n",
    "def printTable():\n",
    "    print(\"  s   isalnum  isalpha  isdigit  islower  isspace  isupper\")\n",
    "    for s in \"ABCD,ABcd,abcd,ab12,1234,    ,AB?!\".split(\",\"):\n",
    "        printRow(s)\n",
    "printTable()"
   ]
  },
  {
   "cell_type": "code",
   "execution_count": null,
   "id": "e7ec95a4",
   "metadata": {},
   "outputs": [
    {
     "name": "stdout",
     "output_type": "stream",
     "text": [
      "yyds yysy xswl dddd\n",
      "FBI! OPEN THE DOOR!!!\n"
     ]
    }
   ],
   "source": [
    "# lower() 和 upper()\n",
    "print(\"YYDS YYSY XSWL DDDD\".lower())\n",
    "print(\"fbi! open the door!!!\".upper())"
   ]
  },
  {
   "cell_type": "code",
   "execution_count": 58,
   "id": "97a45db9",
   "metadata": {},
   "outputs": [
    {
     "name": "stdout",
     "output_type": "stream",
     "text": [
      "Hello, World!\n"
     ]
    }
   ],
   "source": [
    "# strip()可以去除字符串两端的空白字符\n",
    "print(\"  Hello, World!  \".strip())  # 输出：'Hello, World!'"
   ]
  },
  {
   "cell_type": "code",
   "execution_count": 67,
   "id": "467d497f",
   "metadata": {},
   "outputs": [
    {
     "name": "stdout",
     "output_type": "stream",
     "text": [
      "C 大法好！聪明办法学 C\n",
      "Hugging SD, LLM is the best, Hugging Future\n"
     ]
    }
   ],
   "source": [
    "print(\"Python 大法好！聪明办法学 Python\".replace(\"Python\", \"C\"))\n",
    "print(\"Hugging LLM, LLM is the best, Hugging Future\".replace(\"LLM\", \"SD\", 1)) # count = 1"
   ]
  },
  {
   "cell_type": "code",
   "execution_count": 75,
   "id": "61526627",
   "metadata": {},
   "outputs": [
    {
     "name": "stdout",
     "output_type": "stream",
     "text": [
      "2\n",
      "False\n",
      "True\n",
      "5\n",
      "-1\n",
      "5\n"
     ]
    }
   ],
   "source": [
    "print(\"This Is is the best course ever!\".count(\"is\"))  # 统计子串出现的次数 \n",
    "print(\"聪明办法学 Python\".startswith(\"明办法学\"))  \n",
    "print(\"聪明办法学 Python\".endswith(\"Python\"))  # 检查字符串是否以指定子串结尾\n",
    "\n",
    "print(\"Data Whale\".find(\"Whale\"))  # 查找子串的位置\n",
    "print(\"Data Whale\".find(\"aaa\"))  # 查找不存在的子串，返回 -1\n",
    "print(\"Data Whale\".index(\"Whale\"))  # 查找子串的位置，若不存在则抛出异常"
   ]
  },
  {
   "cell_type": "code",
   "execution_count": 78,
   "id": "895c1b5a",
   "metadata": {},
   "outputs": [
    {
     "name": "stdout",
     "output_type": "stream",
     "text": [
      "You know 42 is a great number and 3.140 is a great value!\n",
      "Hello, my name is Data Whale and I am 3 years old.\n"
     ]
    }
   ],
   "source": [
    "# 使用f-strings格式化字符串\n",
    "x = 42\n",
    "y = 3.14\n",
    "print(f'You know {x} is a great number and {y:.3f} is a great value!')\n",
    "\n",
    "# 使用format()方法格式化字符串\n",
    "name = \"Data Whale\"\n",
    "age = 3\n",
    "print(\"Hello, my name is {} and I am {} years old.\".format(name, age))\n"
   ]
  },
  {
   "cell_type": "markdown",
   "id": "48f90b68",
   "metadata": {},
   "source": [
    "## 基础文件操作\n"
   ]
  },
  {
   "cell_type": "markdown",
   "id": "4226818a",
   "metadata": {},
   "source": [
    "- Open() 函数\n",
    "\n",
    "Python open() 函数用于打开一个文件，并返回文件对象，在对文件进行处理过程都需要使用到这个函数。\n",
    "\n",
    "open(file, mode) 函数主要有 file 和 mode 两个参数，其中 file 为需要读写文件的路径。mode 为读取文件时的模式，常用的模式有以下几个：\n",
    "\n",
    "    - r：以字符串的形式读取文件。\n",
    "    - rb：以二进制的形式读取文件。\n",
    "    - w：写入文件。\n",
    "    - a：追加写入文件。\n",
    "不同模式下返回的文件对象功能也会不同"
   ]
  },
  {
   "cell_type": "code",
   "execution_count": 84,
   "id": "c014fd06",
   "metadata": {},
   "outputs": [
    {
     "name": "stdout",
     "output_type": "stream",
     "text": [
      "Data Whale is a great course!\n",
      "\n"
     ]
    }
   ],
   "source": [
    "file = open(\"example.txt\", \"w\")  # 打开文件进行写入\n",
    "dw_text = \"Data Whale is a great course!\\n\"\n",
    "file.write(dw_text)  # 写入内容\n",
    "file.close()  # 关闭文件\n",
    "\n",
    "file = open(\"example.txt\", \"r\")  # 打开文件进行读取\n",
    "print(file.read())  # 读取文件内容 "
   ]
  },
  {
   "cell_type": "code",
   "execution_count": 85,
   "id": "18f5aa0b",
   "metadata": {},
   "outputs": [
    {
     "name": "stdout",
     "output_type": "stream",
     "text": [
      "<class '_io.TextIOWrapper'>\n"
     ]
    }
   ],
   "source": [
    "file = open(\"example02.txt\", \"r\")  # 打开文件进行读取\n",
    "print(type(file)) "
   ]
  },
  {
   "cell_type": "markdown",
   "id": "3f3522ba",
   "metadata": {},
   "source": [
    "- 文件对象\n",
    "\n",
    "open 函数会返回一个 文件对象。\n",
    "close( ): 关闭文件\n",
    "- 在 r 与 rb 模式下：\n",
    "    - read(): 读取整个文件\n",
    "    - readline(): 读取文件的一行\n",
    "    - readlines(): 读取文件的所有行\n",
    "- 在 w 与 a 模式下：\n",
    "    - write():\n",
    "    - writelines():"
   ]
  },
  {
   "cell_type": "code",
   "execution_count": 86,
   "id": "fe0f2eb8",
   "metadata": {},
   "outputs": [
    {
     "name": "stdout",
     "output_type": "stream",
     "text": [
      "Data Whale is a great course!\n",
      "Hello\n",
      "This is a test file.\n",
      "\n",
      "\n"
     ]
    }
   ],
   "source": [
    "## 通过read()方法读取文件内容\n",
    "file = open(\"example.txt\", \"r\")  # 打开文件进行读取\n",
    "content = file.read()  # 读取整个文件内容\n",
    "print(content)  # 输出文件内容"
   ]
  },
  {
   "cell_type": "code",
   "execution_count": 88,
   "id": "9f45d52a",
   "metadata": {},
   "outputs": [
    {
     "name": "stdout",
     "output_type": "stream",
     "text": [
      "Data Whale is a great course!\n",
      "\n"
     ]
    }
   ],
   "source": [
    "file.close()  # 关闭文件\n",
    "file = open(\"example.txt\", \"r\")  # 打开文件进行读取\n",
    "## 通过readline()方法逐行读取文件内容\n",
    "content = file.readline()\n",
    "print(content)  # 输出第一行内容"
   ]
  },
  {
   "cell_type": "code",
   "execution_count": 89,
   "id": "42bff6f6",
   "metadata": {},
   "outputs": [],
   "source": [
    "## 以w模式打开文件进行写入\n",
    "file.close()\n",
    "file = open(\"example02.txt\", \"w\")  # 打开文件进行写入\n",
    "content = \"This is a new file created for writing.\\n\"\n",
    "file.write(content)  # 写入内容\n",
    "file.close()  # 关闭文件\n",
    "\n",
    "## 以a模式打开文件进行追加写入\n",
    "file = open(\"example02.txt\", \"a\")  # 打开文件进行追加写入\n",
    "content = \"This line is appended to the file.\\n\"\n",
    "file.write(content)  # 写入内容\n",
    "file.close()  # 关闭文件\n",
    "\n"
   ]
  },
  {
   "cell_type": "code",
   "execution_count": 90,
   "id": "9b1fba65",
   "metadata": {},
   "outputs": [
    {
     "name": "stdout",
     "output_type": "stream",
     "text": [
      "The Zen of Python, by Tim Peters\n",
      "\n",
      "Beautiful is better than ugly.\n",
      "Explicit is better than implicit.\n",
      "Simple is better than complex.\n",
      "Complex is better than complicated.\n",
      "Flat is better than nested.\n",
      "Sparse is better than dense.\n",
      "Readability counts.\n",
      "Special cases aren't special enough to break the rules.\n",
      "Although practicality beats purity.\n",
      "Errors should never pass silently.\n",
      "Unless explicitly silenced.\n",
      "In the face of ambiguity, refuse the temptation to guess.\n",
      "There should be one-- and preferably only one --obvious way to do it.\n",
      "Although that way may not be obvious at first unless you're Dutch.\n",
      "Now is better than never.\n",
      "Although never is often better than *right* now.\n",
      "If the implementation is hard to explain, it's a bad idea.\n",
      "If the implementation is easy to explain, it may be a good idea.\n",
      "Namespaces are one honking great idea -- let's do more of those!\n",
      "1003\n"
     ]
    }
   ],
   "source": [
    "Caesar_cipher = \"\"\"s = \\\"\\\"\\\"Gur Mra bs Clguba, ol Gvz Crgref\n",
    "\n",
    "Ornhgvshy vf orggre guna htyl.\n",
    "Rkcyvpvg vf orggre guna vzcyvpvg.\n",
    "Fvzcyr vf orggre guna pbzcyrk.\n",
    "Pbzcyrk vf orggre guna pbzcyvpngrq.\n",
    "Syng vf orggre guna arfgrq.\n",
    "Fcnefr vf orggre guna qrafr.\n",
    "Ernqnovyvgl pbhagf.\n",
    "Fcrpvny pnfrf nera'g fcrpvny rabhtu gb oernx gur ehyrf.\n",
    "Nygubhtu cenpgvpnyvgl orngf chevgl.\n",
    "Reebef fubhyq arire cnff fvyragyl.\n",
    "Hayrff rkcyvpvgyl fvyraprq.\n",
    "Va gur snpr bs nzovthvgl, ershfr gur grzcgngvba gb thrff.\n",
    "Gurer fubhyq or bar-- naq cersrenoyl bayl bar --boivbhf jnl gb qb vg.\n",
    "Nygubhtu gung jnl znl abg or boivbhf ng svefg hayrff lbh'er Qhgpu.\n",
    "Abj vf orggre guna arire.\n",
    "Nygubhtu arire vf bsgra orggre guna *evtug* abj.\n",
    "Vs gur vzcyrzragngvba vf uneq gb rkcynva, vg'f n onq vqrn.\n",
    "Vs gur vzcyrzragngvba vf rnfl gb rkcynva, vg znl or n tbbq vqrn.\n",
    "Anzrfcnprf ner bar ubaxvat terng vqrn -- yrg'f qb zber bs gubfr!\\\"\\\"\\\"\n",
    "\n",
    "d = {}\n",
    "for c in (65, 97):\n",
    "    for i in range(26):\n",
    "        d[chr(i+c)] = chr((i+13) % 26 + c)\n",
    "\n",
    "print(\"\".join([d.get(c, c) for c in s]))\n",
    "\"\"\"\n",
    "\n",
    "## with语句自动管理文件资源\n",
    "import this \n",
    "\n",
    "with open(\"ZenOfPy.py\",\"w\",encoding='utf-8') as f:\n",
    "    f.write(Caesar_cipher)\n",
    "    print(len(Caesar_cipher))"
   ]
  },
  {
   "cell_type": "code",
   "execution_count": 91,
   "id": "eecc8d76",
   "metadata": {},
   "outputs": [
    {
     "name": "stdout",
     "output_type": "stream",
     "text": [
      "The Zen of Python, by Tim Peters\n",
      "\n",
      "Beautiful is better than ugly.\n",
      "Explicit is better than implicit.\n",
      "Simple is better than complex.\n",
      "Complex is better than complicated.\n",
      "Flat is better than nested.\n",
      "Sparse is better than dense.\n",
      "Readability counts.\n",
      "Special cases aren't special enough to break the rules.\n",
      "Although practicality beats purity.\n",
      "Errors should never pass silently.\n",
      "Unless explicitly silenced.\n",
      "In the face of ambiguity, refuse the temptation to guess.\n",
      "There should be one-- and preferably only one --obvious way to do it.\n",
      "Although that way may not be obvious at first unless you're Dutch.\n",
      "Now is better than never.\n",
      "Although never is often better than *right* now.\n",
      "If the implementation is hard to explain, it's a bad idea.\n",
      "If the implementation is easy to explain, it may be a good idea.\n",
      "Namespaces are one honking great idea -- let's do more of those!\n"
     ]
    }
   ],
   "source": [
    "import ZenOfPy\n"
   ]
  }
 ],
 "metadata": {
  "kernelspec": {
   "display_name": "pytorch",
   "language": "python",
   "name": "python3"
  },
  "language_info": {
   "codemirror_mode": {
    "name": "ipython",
    "version": 3
   },
   "file_extension": ".py",
   "mimetype": "text/x-python",
   "name": "python",
   "nbconvert_exporter": "python",
   "pygments_lexer": "ipython3",
   "version": "3.11.8"
  }
 },
 "nbformat": 4,
 "nbformat_minor": 5
}
