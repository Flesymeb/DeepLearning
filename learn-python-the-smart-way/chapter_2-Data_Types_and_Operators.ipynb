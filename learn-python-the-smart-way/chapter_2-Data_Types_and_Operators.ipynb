{
 "cells": [
  {
   "cell_type": "markdown",
   "id": "4ff2cc10",
   "metadata": {},
   "source": [
    "# Chapter02: Data_Types_and_Operators"
   ]
  },
  {
   "cell_type": "markdown",
   "id": "4f3e42f8",
   "metadata": {},
   "source": [
    "## 常用内置类型 Builtin Types"
   ]
  },
  {
   "cell_type": "markdown",
   "id": "703a09d1",
   "metadata": {},
   "source": [
    "常见的基本数据类型：\n",
    "- 整数类型 `int`\n",
    "- 浮点数类型 `float`\n",
    "- 布尔类型 `bool`\n",
    "- 类型 `type`"
   ]
  },
  {
   "cell_type": "code",
   "execution_count": 1,
   "id": "e88bdd2d",
   "metadata": {},
   "outputs": [
    {
     "name": "stdout",
     "output_type": "stream",
     "text": [
      "<class 'int'>\n",
      "<class 'float'>\n",
      "<class 'bool'>\n",
      "<class 'bool'>\n",
      "<class 'NoneType'>\n",
      "<class 'str'>\n",
      "<class 'type'>\n"
     ]
    }
   ],
   "source": [
    "print(type(2))\n",
    "print(type(2.0))\n",
    "print(type(True))\n",
    "print(type(False))\n",
    "print(type(None))\n",
    "print(type(\"Hello, World!\"))\n",
    "print(type(type(42)))"
   ]
  },
  {
   "cell_type": "markdown",
   "id": "7c3364f5",
   "metadata": {},
   "source": [
    "更多的数据类型：\n",
    "- 字符串类型 `str`\n",
    "- 列表类型 `list`\n",
    "- 元组类型 `tuple`\n",
    "- 集合类型 `set`\n",
    "- 字典类型 `dict` 或者映射 `map`\n",
    "- 复数类型 `complex`\n",
    "- 函数类型 `function`\n",
    "- 模块类型 `module`"
   ]
  },
  {
   "cell_type": "code",
   "execution_count": 7,
   "id": "352f5ac0",
   "metadata": {},
   "outputs": [
    {
     "name": "stdout",
     "output_type": "stream",
     "text": [
      "<class 'str'>\n",
      "<class 'list'>\n",
      "<class 'tuple'>\n",
      "<class 'set'>\n",
      "<class 'dict'>\n",
      "<class 'complex'>\n",
      "<class 'function'>\n",
      "<class 'module'>\n"
     ]
    }
   ],
   "source": [
    "import math\n",
    "print(type(\"2.2\"))\n",
    "print(type([1,2,3]))\n",
    "print(type((1,2,3)))\n",
    "print(type({1,2,3}))\n",
    "print(type({'a': 1, 'b': 2}))\n",
    "print(type(1 + 2j))\n",
    "print(type(lambda x: x + 1))\n",
    "print(type(math))\n"
   ]
  },
  {
   "cell_type": "markdown",
   "id": "634f2b55",
   "metadata": {},
   "source": [
    "## 常用内置常数 Builtin Constants"
   ]
  },
  {
   "cell_type": "markdown",
   "id": "eeb8d2b0",
   "metadata": {},
   "source": [
    "Python 中有一些常用的内置常数，例如：\n",
    "- `True`：布尔真值\n",
    "- `False`：布尔假值\n",
    "- `None`：空值\n",
    "\n",
    "math 模块中也有一些常用的数学常数，例如：\n",
    "- `math.pi`：圆周率\n",
    "- `math.e`：自然对数的底数\n",
    "- `math.inf`：正无穷大\n",
    "- `math.nan`：非数字（Not a Number）\n",
    "- `math.tau`：圆周率的两倍"
   ]
  },
  {
   "cell_type": "code",
   "execution_count": 8,
   "id": "3e870068",
   "metadata": {},
   "outputs": [
    {
     "name": "stdout",
     "output_type": "stream",
     "text": [
      "3.141592653589793\n",
      "2.718281828459045\n",
      "6.283185307179586\n",
      "inf\n",
      "-inf\n"
     ]
    }
   ],
   "source": [
    "print(math.pi)\n",
    "print(math.e)\n",
    "print(math.tau)\n",
    "print(math.inf)\n",
    "print(-math.inf)"
   ]
  },
  {
   "cell_type": "markdown",
   "id": "57fd7d17",
   "metadata": {},
   "source": [
    "## 常用内置运算符 Built-in Operators"
   ]
  },
  {
   "cell_type": "markdown",
   "id": "aa5c564e",
   "metadata": {},
   "source": [
    "- 算术运算符：`+`, `-`, `*`, `/`, `//`, `%`, `**`\n",
    "- 关系运算符：`==`, `!=`, `<`, `>`, `<=`, `>=`\n",
    "- 赋值运算符：`=`, `+=`, `-=`, `*=`, `/=`, `//=`, `%=`, `**=`\n",
    "- 逻辑运算符：`and`, `or`, `not`"
   ]
  },
  {
   "cell_type": "code",
   "execution_count": 13,
   "id": "b5d578a0",
   "metadata": {},
   "outputs": [
    {
     "name": "stdout",
     "output_type": "stream",
     "text": [
      "5/3 =  1.6666666666666667\n",
      "5//3 =  1\n",
      "2//3 =  0\n",
      "-4//3 =  -2\n"
     ]
    }
   ],
   "source": [
    "# 整除\n",
    "print(\"5/3 = \",(5/3))\n",
    "print(\"5//3 = \",(5//3)) # 整除,即向下取整\n",
    "print(\"2//3 = \",(2//3)) \n",
    "print(\"-4//3 = \",(-4//3)) # 负数整除向下取整"
   ]
  },
  {
   "cell_type": "code",
   "execution_count": 17,
   "id": "789634b1",
   "metadata": {},
   "outputs": [
    {
     "name": "stdout",
     "output_type": "stream",
     "text": [
      "5%3 =  2\n",
      "-4%3 =  2\n",
      "5%3 =  2\n"
     ]
    }
   ],
   "source": [
    "# 模运算\n",
    "print(\"5%3 = \",(5%3)) # 取余\n",
    "print(\"-4%3 = \",(-4%3)) # 取余\n",
    "\n",
    "def mod(a, b):\n",
    "    return a - (a//b)*b\n",
    "\n",
    "print(\"5%3 = \", mod(5, 3)) # 取余\n",
    "\n",
    "\n",
    "# %和math.fmod的区别：%为取余运算符，返回的结果符号与被除数相同；而math.fmod返回的结果符号与除数相同。"
   ]
  },
  {
   "cell_type": "markdown",
   "id": "43cef563",
   "metadata": {},
   "source": []
  },
  {
   "cell_type": "code",
   "execution_count": 25,
   "id": "bb9a11f2",
   "metadata": {},
   "outputs": [
    {
     "name": "stdout",
     "output_type": "stream",
     "text": [
      "True\n",
      "True\n",
      "True\n"
     ]
    }
   ],
   "source": [
    "# type()和isinstance()\n",
    "print(type(42) is int)  # True\n",
    "print(isinstance(42, int))  # True\n",
    "\n",
    "import numbers\n",
    "def is_number(n):\n",
    "    return isinstance(n, numbers.Number) # 检查是否为数字类型\n",
    "print(is_number(42.1))  # True"
   ]
  }
 ],
 "metadata": {
  "kernelspec": {
   "display_name": "pytorch",
   "language": "python",
   "name": "python3"
  },
  "language_info": {
   "codemirror_mode": {
    "name": "ipython",
    "version": 3
   },
   "file_extension": ".py",
   "mimetype": "text/x-python",
   "name": "python",
   "nbconvert_exporter": "python",
   "pygments_lexer": "ipython3",
   "version": "3.11.8"
  }
 },
 "nbformat": 4,
 "nbformat_minor": 5
}
