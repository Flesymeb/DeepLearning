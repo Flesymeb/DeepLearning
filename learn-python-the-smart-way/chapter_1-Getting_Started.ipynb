{
 "cells": [
  {
   "cell_type": "markdown",
   "id": "d80b676a",
   "metadata": {},
   "source": [
    "# Chapter01: Getting_Started"
   ]
  },
  {
   "cell_type": "markdown",
   "id": "b6dcb554",
   "metadata": {},
   "source": [
    "## 基础控制台输出"
   ]
  },
  {
   "cell_type": "code",
   "execution_count": 31,
   "id": "bed195b2",
   "metadata": {},
   "outputs": [
    {
     "name": "stdout",
     "output_type": "stream",
     "text": [
      "Data|\n",
      "Whale\n"
     ]
    }
   ],
   "source": [
    "print(\"Data\", end='|\\n')\n",
    "print(\"Whale\")"
   ]
  },
  {
   "cell_type": "code",
   "execution_count": 32,
   "id": "3ce4f932",
   "metadata": {},
   "outputs": [
    {
     "name": "stdout",
     "output_type": "stream",
     "text": [
      "Hello*World\n"
     ]
    }
   ],
   "source": [
    "print(\"Hello\", \"World\", sep=\"*\")  # 使用sep参数来指定分隔符"
   ]
  },
  {
   "cell_type": "code",
   "execution_count": 33,
   "id": "c9a4f242",
   "metadata": {},
   "outputs": [
    {
     "name": "stdout",
     "output_type": "stream",
     "text": [
      "one////twotwo\n"
     ]
    }
   ],
   "source": [
    "print(\"one\"*1,\"two\"*2,sep=\"/\"*4) # 使用sep参数来指定分隔符,*指定重复次数"
   ]
  },
  {
   "cell_type": "code",
   "execution_count": 34,
   "id": "e53c6b59",
   "metadata": {},
   "outputs": [
    {
     "name": "stdout",
     "output_type": "stream",
     "text": [
      "Data|Whale\n"
     ]
    }
   ],
   "source": [
    "print(\"Data\"+\"|\"+\"Whale\")  # 使用字符串拼接来输出"
   ]
  },
  {
   "cell_type": "code",
   "execution_count": 35,
   "id": "59351e7d",
   "metadata": {},
   "outputs": [
    {
     "name": "stdout",
     "output_type": "stream",
     "text": [
      "x=1, y=2\n"
     ]
    }
   ],
   "source": [
    "#格式化输出\n",
    "x = 1\n",
    "y = 2\n",
    "print(f\"x={x}, y={y}\")  # 使用f-string格式化输出"
   ]
  },
  {
   "cell_type": "markdown",
   "id": "8c8f2633",
   "metadata": {},
   "source": []
  },
  {
   "cell_type": "markdown",
   "id": "f268c473",
   "metadata": {},
   "source": [
    "## 基础控制台输入"
   ]
  },
  {
   "cell_type": "markdown",
   "id": "c628b106",
   "metadata": {},
   "source": [
    "> input()函数用于从控制台获取用户输入，并以字符串形式返回。"
   ]
  },
  {
   "cell_type": "code",
   "execution_count": 36,
   "id": "f78a50e8",
   "metadata": {},
   "outputs": [
    {
     "name": "stdout",
     "output_type": "stream",
     "text": [
      "你好，！欢迎使用Python编程。\n"
     ]
    }
   ],
   "source": [
    "name = input(\"请输入你的名字: \")\n",
    "print(f\"你好，{name}！欢迎使用Python编程。\")"
   ]
  },
  {
   "cell_type": "code",
   "execution_count": 37,
   "id": "b9f9aa18",
   "metadata": {},
   "outputs": [
    {
     "ename": "ValueError",
     "evalue": "invalid literal for int() with base 10: ''",
     "output_type": "error",
     "traceback": [
      "\u001b[1;31m---------------------------------------------------------------------------\u001b[0m",
      "\u001b[1;31mValueError\u001b[0m                                Traceback (most recent call last)",
      "Cell \u001b[1;32mIn[37], line 2\u001b[0m\n\u001b[0;32m      1\u001b[0m x \u001b[38;5;241m=\u001b[39m \u001b[38;5;28minput\u001b[39m()\n\u001b[1;32m----> 2\u001b[0m x \u001b[38;5;241m=\u001b[39m \u001b[38;5;28mint\u001b[39m(x)\n\u001b[0;32m      3\u001b[0m x \u001b[38;5;241m=\u001b[39m \u001b[38;5;28mint\u001b[39m(\u001b[38;5;28minput\u001b[39m(\u001b[38;5;124m\"\u001b[39m\u001b[38;5;124m请输入一个整数: \u001b[39m\u001b[38;5;124m\"\u001b[39m))\n\u001b[0;32m      4\u001b[0m \u001b[38;5;28mprint\u001b[39m(\u001b[38;5;124mf\u001b[39m\u001b[38;5;124m\"\u001b[39m\u001b[38;5;124m你输入的整数是: \u001b[39m\u001b[38;5;132;01m{\u001b[39;00mx\u001b[38;5;241m/\u001b[39m\u001b[38;5;241m2\u001b[39m\u001b[38;5;132;01m}\u001b[39;00m\u001b[38;5;124m\"\u001b[39m)\n",
      "\u001b[1;31mValueError\u001b[0m: invalid literal for int() with base 10: ''"
     ]
    }
   ],
   "source": [
    "x = input()\n",
    "x = int(x)\n",
    "x = int(input(\"请输入一个整数: \"))\n",
    "print(f\"你输入的整数是: {x/2}\")"
   ]
  },
  {
   "cell_type": "markdown",
   "id": "150e2f80",
   "metadata": {},
   "source": [
    "> 多行输入"
   ]
  },
  {
   "cell_type": "code",
   "execution_count": null,
   "id": "4a441f6e",
   "metadata": {},
   "outputs": [
    {
     "name": "stdout",
     "output_type": "stream",
     "text": [
      "你输入的整数是: 12,16\n"
     ]
    }
   ],
   "source": [
    "a,b = input(\"请输入两个整数，用逗号分隔: \").split(',')\n",
    "print(f\"你输入的整数是: {int(a)},{int(b)}\")"
   ]
  },
  {
   "cell_type": "markdown",
   "id": "4c0a3600",
   "metadata": {},
   "source": [
    "## 导入模块"
   ]
  },
  {
   "cell_type": "code",
   "execution_count": null,
   "id": "6d148b0b",
   "metadata": {},
   "outputs": [
    {
     "name": "stdout",
     "output_type": "stream",
     "text": [
      "3.141592653589793\n",
      "2.718281828459045\n",
      "4.0\n",
      "3\n",
      "120\n"
     ]
    }
   ],
   "source": [
    "import math\n",
    "print(math.pi)\n",
    "print(math.e)\n",
    "print(math.sqrt(16))\n",
    "print(math.gcd(12,15))\n",
    "print(math.factorial(5))"
   ]
  }
 ],
 "metadata": {
  "kernelspec": {
   "display_name": "pytorch",
   "language": "python",
   "name": "python3"
  },
  "language_info": {
   "codemirror_mode": {
    "name": "ipython",
    "version": 3
   },
   "file_extension": ".py",
   "mimetype": "text/x-python",
   "name": "python",
   "nbconvert_exporter": "python",
   "pygments_lexer": "ipython3",
   "version": "3.11.8"
  }
 },
 "nbformat": 4,
 "nbformat_minor": 5
}
