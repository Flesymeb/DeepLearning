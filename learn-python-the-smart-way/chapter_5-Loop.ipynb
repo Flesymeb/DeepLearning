{
 "cells": [
  {
   "cell_type": "markdown",
   "id": "64d20c04",
   "metadata": {},
   "source": [
    "# Chapter05: Loop"
   ]
  },
  {
   "cell_type": "markdown",
   "id": "0a6ce502",
   "metadata": {},
   "source": [
    "## for 循环"
   ]
  },
  {
   "cell_type": "code",
   "execution_count": 2,
   "id": "38b733ff",
   "metadata": {},
   "outputs": [
    {
     "data": {
      "text/plain": [
       "55"
      ]
     },
     "execution_count": 2,
     "metadata": {},
     "output_type": "execute_result"
    }
   ],
   "source": [
    "def sumFromMtoN(m,n):\n",
    "    total = 0\n",
    "    for i in range(m,n+1):\n",
    "        total += i\n",
    "    return total\n",
    "\n",
    "sumFromMtoN(1, 10)  # 55"
   ]
  },
  {
   "cell_type": "code",
   "execution_count": 5,
   "id": "c2e2681f",
   "metadata": {},
   "outputs": [
    {
     "data": {
      "text/plain": [
       "36"
      ]
     },
     "execution_count": 5,
     "metadata": {},
     "output_type": "execute_result"
    }
   ],
   "source": [
    "# range()是一个内置函数，用于生成一个整数序列。\n",
    "# 它的语法是 range(start, stop[, step])，其中 start 是起始值，stop 是终止值（不包含），step 是步长（默认为1）。\n",
    "# range(1, 11) 会生成从1到10的整数序列。\n",
    "\n",
    "def sumFromMtoN(m, n):\n",
    "    return sum(range(m, n + 1))\n",
    "\n",
    "sumFromMtoN(1, 10)  # 55\n",
    "\n",
    "\n",
    "\n",
    "# 添加步长\n",
    "def sumEveryKthFromMtoN(m, n, k):\n",
    "    total = 0\n",
    "    for i in range(m, n + 1, k):\n",
    "        total += i\n",
    "    return total\n",
    "\n",
    "sumEveryKthFromMtoN(5,20,7)  # 5 + 12 + 19 = 36 "
   ]
  },
  {
   "cell_type": "code",
   "execution_count": 6,
   "id": "ae36096b",
   "metadata": {},
   "outputs": [
    {
     "name": "stdout",
     "output_type": "stream",
     "text": [
      "( 1 , 1 )  ( 1 , 2 )  \n",
      "( 2 , 1 )  ( 2 , 2 )  \n",
      "( 3 , 1 )  ( 3 , 2 )  \n"
     ]
    }
   ],
   "source": [
    "#for嵌套循环\n",
    "# 下面的代码将输出二维坐标\n",
    "\n",
    "def printCoordinates(xMax, yMax):\n",
    "    for x in range(1, xMax+1):\n",
    "        for y in range(1, yMax+1):\n",
    "            print(f\"( {x} , {y} )  \", end=\"\")\n",
    "        print()\n",
    "\n",
    "printCoordinates(3, 2)  "
   ]
  },
  {
   "cell_type": "code",
   "execution_count": 10,
   "id": "7ebc958d",
   "metadata": {},
   "outputs": [
    {
     "name": "stdout",
     "output_type": "stream",
     "text": [
      "0 \n",
      "1 * \n",
      "2 * * \n",
      "3 * * * \n",
      "4 * * * * \n"
     ]
    }
   ],
   "source": [
    "def printMysteryStarShape(n):\n",
    "    for row in range(n):\n",
    "        print(row,end=\" \")\n",
    "        for col in range(row):\n",
    "            print(\"*\", end=\" \")\n",
    "        print()\n",
    "\n",
    "printMysteryStarShape(5)  "
   ]
  },
  {
   "cell_type": "markdown",
   "id": "71a18fac",
   "metadata": {},
   "source": [
    "## while循环"
   ]
  },
  {
   "cell_type": "code",
   "execution_count": 13,
   "id": "e6a7d11b",
   "metadata": {},
   "outputs": [
    {
     "data": {
      "text/plain": [
       "1"
      ]
     },
     "execution_count": 13,
     "metadata": {},
     "output_type": "execute_result"
    }
   ],
   "source": [
    "def leftmostDigit(n):\n",
    "    n = abs(n)  # 取绝对值\n",
    "    while n >= 10:\n",
    "        n //= 10  # 整除，去掉最后一位\n",
    "\n",
    "    return n\n",
    "leftmostDigit(12345)  # 1"
   ]
  },
  {
   "cell_type": "code",
   "execution_count": 15,
   "id": "1077f7d3",
   "metadata": {},
   "outputs": [
    {
     "name": "stdout",
     "output_type": "stream",
     "text": [
      "1 2 4 5 7 "
     ]
    }
   ],
   "source": [
    "# break和continue\n",
    "for i in range(200):\n",
    "    if i % 3 == 0:\n",
    "        continue\n",
    "    elif i==8:\n",
    "        break\n",
    "    else:\n",
    "        pass\n",
    "    print(i, end=\" \")\n",
    "\n",
    "\n"
   ]
  },
  {
   "cell_type": "markdown",
   "id": "26af13e5",
   "metadata": {},
   "source": [
    "- For 循环用于指定范围的重复操作。\n",
    "- range() 可以生成一个数字范围。\n",
    "- 在不知道循环什么时间停止的时候，应该试试 While 循环。\n",
    "- 循环同样也是可以嵌套的。\n",
    "- 巧妙地使用 break 和 continue 语句。\n",
    "- 合理的剪枝，缩小搜索范围/循环范围，可以大幅提高程序运行效率。"
   ]
  }
 ],
 "metadata": {
  "kernelspec": {
   "display_name": "pytorch",
   "language": "python",
   "name": "python3"
  },
  "language_info": {
   "codemirror_mode": {
    "name": "ipython",
    "version": 3
   },
   "file_extension": ".py",
   "mimetype": "text/x-python",
   "name": "python",
   "nbconvert_exporter": "python",
   "pygments_lexer": "ipython3",
   "version": "3.11.8"
  }
 },
 "nbformat": 4,
 "nbformat_minor": 5
}
