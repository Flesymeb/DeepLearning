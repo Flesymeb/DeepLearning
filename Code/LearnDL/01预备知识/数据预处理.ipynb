{
 "cells": [
  {
   "cell_type": "markdown",
   "source": [
    "数据预处理"
   ],
   "metadata": {
    "collapsed": false
   },
   "id": "eb287ddd1897e8c4"
  },
  {
   "cell_type": "markdown",
   "source": [
    "读取数据集"
   ],
   "metadata": {
    "collapsed": false
   },
   "id": "3fffe20bb6d0db49"
  },
  {
   "cell_type": "code",
   "outputs": [],
   "source": [
    "import os\n",
    "\n",
    "os.makedirs(os.path.join('..', 'data'), exist_ok=True)\n",
    "data_file = os.path.join('..', 'data', 'house_tiny.csv')\n",
    "with open(data_file, 'w') as f:\n",
    "    f.write('NumRooms,Alley,Price\\n')  # 列名\n",
    "    f.write('NA,Pave,127500\\n')  # 每行表示一个数据样本\n",
    "    f.write('2,NA,106000\\n')\n",
    "    f.write('4,NA,178100\\n')\n",
    "    f.write('NA,NA,140000\\n')"
   ],
   "metadata": {
    "collapsed": false,
    "ExecuteTime": {
     "end_time": "2024-02-27T13:42:57.291744Z",
     "start_time": "2024-02-27T13:42:57.275517Z"
    }
   },
   "id": "7947b1527ec3199a",
   "execution_count": 2
  },
  {
   "cell_type": "code",
   "outputs": [
    {
     "name": "stdout",
     "output_type": "stream",
     "text": [
      "   NumRooms Alley   Price\n",
      "0       NaN  Pave  127500\n",
      "1       2.0   NaN  106000\n",
      "2       4.0   NaN  178100\n",
      "3       NaN   NaN  140000\n"
     ]
    }
   ],
   "source": [
    "# 如果没有安装pandas，只需取消对以下行的注释来安装pandas\n",
    "# !pip install pandas\n",
    "import pandas as pd\n",
    "\n",
    "data = pd.read_csv(data_file)\n",
    "print(data)"
   ],
   "metadata": {
    "collapsed": false,
    "ExecuteTime": {
     "end_time": "2024-02-27T13:43:07.458945Z",
     "start_time": "2024-02-27T13:43:05.464308Z"
    }
   },
   "id": "139424b711ba8351",
   "execution_count": 3
  },
  {
   "cell_type": "markdown",
   "source": [
    "处理缺失值"
   ],
   "metadata": {
    "collapsed": false
   },
   "id": "7aaa0e4c30d6ffc8"
  },
  {
   "cell_type": "code",
   "outputs": [
    {
     "data": {
      "text/plain": "0    127500\n1    106000\n2    178100\n3    140000\nName: Price, dtype: int64"
     },
     "execution_count": 10,
     "metadata": {},
     "output_type": "execute_result"
    }
   ],
   "source": [
    "inputs,outputs=data.iloc[:,0:2],data.iloc[:,2]\n",
    "inputs\n",
    "outputs"
   ],
   "metadata": {
    "collapsed": false,
    "ExecuteTime": {
     "end_time": "2024-02-27T13:49:06.118257Z",
     "start_time": "2024-02-27T13:49:06.100456Z"
    }
   },
   "id": "71b50f2aa9edbe2",
   "execution_count": 10
  },
  {
   "cell_type": "code",
   "outputs": [
    {
     "name": "stdout",
     "output_type": "stream",
     "text": [
      "   NumRooms Alley\n",
      "0       3.0  Pave\n",
      "1       2.0   NaN\n",
      "2       4.0   NaN\n",
      "3       3.0   NaN\n"
     ]
    }
   ],
   "source": [
    "inputs=inputs.fillna(inputs.select_dtypes(include='number').mean())\n",
    "print(inputs)"
   ],
   "metadata": {
    "collapsed": false,
    "ExecuteTime": {
     "end_time": "2024-02-27T13:53:04.186375Z",
     "start_time": "2024-02-27T13:53:04.163891Z"
    }
   },
   "id": "2bdd0ea1b5c68e8a",
   "execution_count": 14
  },
  {
   "cell_type": "markdown",
   "source": [
    "对于有字符型的不能直接用mean()填充，还需要筛选出数值型"
   ],
   "metadata": {
    "collapsed": false
   },
   "id": "b8a082970bbd08e2"
  },
  {
   "cell_type": "code",
   "outputs": [
    {
     "name": "stdout",
     "output_type": "stream",
     "text": [
      "   NumRooms  Alley_Pave  Alley_nan\n",
      "0       3.0        True      False\n",
      "1       2.0       False       True\n",
      "2       4.0       False       True\n",
      "3       3.0       False       True\n"
     ]
    }
   ],
   "source": [
    "inputs = pd.get_dummies(inputs, dummy_na=True)\n",
    "print(inputs)"
   ],
   "metadata": {
    "collapsed": false,
    "ExecuteTime": {
     "end_time": "2024-02-27T13:54:34.556955Z",
     "start_time": "2024-02-27T13:54:34.543665Z"
    }
   },
   "id": "f7f354e14d25fe4e",
   "execution_count": 15
  },
  {
   "cell_type": "markdown",
   "source": [
    "转换为张量形式"
   ],
   "metadata": {
    "collapsed": false
   },
   "id": "470f5cd7936c35c6"
  },
  {
   "cell_type": "code",
   "outputs": [],
   "source": [
    "import torch"
   ],
   "metadata": {
    "collapsed": false,
    "ExecuteTime": {
     "end_time": "2024-02-27T13:57:08.131224Z",
     "start_time": "2024-02-27T13:56:12.713029Z"
    }
   },
   "id": "bd6a6c4586038bfb",
   "execution_count": 16
  },
  {
   "cell_type": "code",
   "outputs": [
    {
     "data": {
      "text/plain": "(tensor([[3., 1., 0.],\n         [2., 0., 1.],\n         [4., 0., 1.],\n         [3., 0., 1.]], dtype=torch.float64),\n tensor([127500., 106000., 178100., 140000.], dtype=torch.float64))"
     },
     "execution_count": 17,
     "metadata": {},
     "output_type": "execute_result"
    }
   ],
   "source": [
    "X=torch.tensor(inputs.to_numpy(dtype=float))\n",
    "Y=torch.tensor(outputs.to_numpy(dtype=float))\n",
    "X,Y"
   ],
   "metadata": {
    "collapsed": false,
    "ExecuteTime": {
     "end_time": "2024-02-27T13:57:11.509662Z",
     "start_time": "2024-02-27T13:57:11.494650Z"
    }
   },
   "id": "faba903388998eb5",
   "execution_count": 17
  },
  {
   "cell_type": "markdown",
   "source": [
    "小结\n",
    "pandas软件包是Python中常用的数据分析工具中，pandas可以与张量兼容。\n",
    "\n",
    "用pandas处理缺失的数据时，我们可根据情况选择用插值法和删除法。"
   ],
   "metadata": {
    "collapsed": false
   },
   "id": "b32f93aa2e3c59ea"
  },
  {
   "cell_type": "code",
   "outputs": [],
   "source": [],
   "metadata": {
    "collapsed": false
   },
   "id": "67f0ff090f5727c3"
  }
 ],
 "metadata": {
  "kernelspec": {
   "display_name": "Python 3",
   "language": "python",
   "name": "python3"
  },
  "language_info": {
   "codemirror_mode": {
    "name": "ipython",
    "version": 2
   },
   "file_extension": ".py",
   "mimetype": "text/x-python",
   "name": "python",
   "nbconvert_exporter": "python",
   "pygments_lexer": "ipython2",
   "version": "2.7.6"
  }
 },
 "nbformat": 4,
 "nbformat_minor": 5
}
