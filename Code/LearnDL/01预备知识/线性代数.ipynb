{
 "cells": [
  {
   "cell_type": "markdown",
   "source": [
    "线性代数"
   ],
   "metadata": {
    "collapsed": false
   },
   "id": "bebbdfb97d762c99"
  },
  {
   "cell_type": "markdown",
   "source": [
    "标量 标量由只有一个元素的张量表示。"
   ],
   "metadata": {
    "collapsed": false
   },
   "id": "b875e46bc3b81f83"
  },
  {
   "cell_type": "code",
   "outputs": [],
   "source": [
    "import torch"
   ],
   "metadata": {
    "collapsed": false,
    "ExecuteTime": {
     "end_time": "2024-04-03T09:12:02.973363Z",
     "start_time": "2024-04-03T09:12:00.407036Z"
    }
   },
   "id": "317b3b5ae8974744",
   "execution_count": 1
  },
  {
   "cell_type": "code",
   "outputs": [
    {
     "data": {
      "text/plain": "(tensor(5.), tensor(1.), tensor(1.5000), tensor(9.))"
     },
     "execution_count": 2,
     "metadata": {},
     "output_type": "execute_result"
    }
   ],
   "source": [
    "x=torch.tensor(3.0)\n",
    "y=torch.tensor(2.0)\n",
    "x+y,x-y,x/y,x**y"
   ],
   "metadata": {
    "collapsed": false,
    "ExecuteTime": {
     "end_time": "2024-04-03T09:12:03.028855Z",
     "start_time": "2024-04-03T09:12:02.974368Z"
    }
   },
   "id": "5bc09e58d74f996",
   "execution_count": 2
  },
  {
   "cell_type": "markdown",
   "source": [
    "向量"
   ],
   "metadata": {
    "collapsed": false
   },
   "id": "13db42320e9b76d7"
  },
  {
   "cell_type": "code",
   "outputs": [
    {
     "data": {
      "text/plain": "tensor([   0,    1,    2,  ..., 3997, 3998, 3999])"
     },
     "execution_count": 3,
     "metadata": {},
     "output_type": "execute_result"
    }
   ],
   "source": [
    "x = torch.arange(4000)\n",
    "x"
   ],
   "metadata": {
    "collapsed": false,
    "ExecuteTime": {
     "end_time": "2024-04-03T09:12:03.039473Z",
     "start_time": "2024-04-03T09:12:03.029895Z"
    }
   },
   "id": "df629fd30d5d3f93",
   "execution_count": 3
  },
  {
   "cell_type": "code",
   "outputs": [
    {
     "data": {
      "text/plain": "tensor(3)"
     },
     "execution_count": 4,
     "metadata": {},
     "output_type": "execute_result"
    }
   ],
   "source": [
    "x[3]"
   ],
   "metadata": {
    "collapsed": false,
    "ExecuteTime": {
     "end_time": "2024-04-03T09:12:03.046171Z",
     "start_time": "2024-04-03T09:12:03.040481Z"
    }
   },
   "id": "be699930374786c3",
   "execution_count": 4
  },
  {
   "cell_type": "markdown",
   "source": [
    "长度，维度和形状"
   ],
   "metadata": {
    "collapsed": false
   },
   "id": "5017a562fb48113b"
  },
  {
   "cell_type": "code",
   "outputs": [
    {
     "data": {
      "text/plain": "4000"
     },
     "execution_count": 5,
     "metadata": {},
     "output_type": "execute_result"
    }
   ],
   "source": [
    "len(x)"
   ],
   "metadata": {
    "collapsed": false,
    "ExecuteTime": {
     "end_time": "2024-04-03T09:12:03.053061Z",
     "start_time": "2024-04-03T09:12:03.048178Z"
    }
   },
   "id": "cbdc03ce094a868d",
   "execution_count": 5
  },
  {
   "cell_type": "code",
   "outputs": [
    {
     "data": {
      "text/plain": "torch.Size([4000])"
     },
     "execution_count": 6,
     "metadata": {},
     "output_type": "execute_result"
    }
   ],
   "source": [
    "x.shape"
   ],
   "metadata": {
    "collapsed": false,
    "ExecuteTime": {
     "end_time": "2024-04-03T09:12:03.058571Z",
     "start_time": "2024-04-03T09:12:03.054024Z"
    }
   },
   "id": "e3cfa8f48d0f37f7",
   "execution_count": 6
  },
  {
   "cell_type": "code",
   "outputs": [
    {
     "data": {
      "text/plain": "tensor([[ 0,  1,  2,  3],\n        [ 4,  5,  6,  7],\n        [ 8,  9, 10, 11],\n        [12, 13, 14, 15],\n        [16, 17, 18, 19]])"
     },
     "execution_count": 7,
     "metadata": {},
     "output_type": "execute_result"
    }
   ],
   "source": [
    "x2=torch.arange(20).reshape(5,4)\n",
    "x2"
   ],
   "metadata": {
    "collapsed": false,
    "ExecuteTime": {
     "end_time": "2024-04-03T09:12:03.064228Z",
     "start_time": "2024-04-03T09:12:03.059580Z"
    }
   },
   "id": "94e3c64b2400f663",
   "execution_count": 7
  },
  {
   "cell_type": "code",
   "outputs": [
    {
     "data": {
      "text/plain": "torch.Size([5, 4])"
     },
     "execution_count": 8,
     "metadata": {},
     "output_type": "execute_result"
    }
   ],
   "source": [
    "x2.shape"
   ],
   "metadata": {
    "collapsed": false,
    "ExecuteTime": {
     "end_time": "2024-04-03T09:12:03.069343Z",
     "start_time": "2024-04-03T09:12:03.065239Z"
    }
   },
   "id": "f5fa60bf3cf5cdc1",
   "execution_count": 8
  },
  {
   "cell_type": "code",
   "outputs": [
    {
     "data": {
      "text/plain": "tensor([[ 0,  4,  8, 12, 16],\n        [ 1,  5,  9, 13, 17],\n        [ 2,  6, 10, 14, 18],\n        [ 3,  7, 11, 15, 19]])"
     },
     "execution_count": 9,
     "metadata": {},
     "output_type": "execute_result"
    }
   ],
   "source": [
    "x2.T"
   ],
   "metadata": {
    "collapsed": false,
    "ExecuteTime": {
     "end_time": "2024-04-03T09:12:03.078270Z",
     "start_time": "2024-04-03T09:12:03.070259Z"
    }
   },
   "id": "9140b9ce76a43e4c",
   "execution_count": 9
  },
  {
   "cell_type": "markdown",
   "source": [
    "张量"
   ],
   "metadata": {
    "collapsed": false
   },
   "id": "21c61a503ef7e6d8"
  },
  {
   "cell_type": "markdown",
   "source": [
    "张量算法的基本性质"
   ],
   "metadata": {
    "collapsed": false
   },
   "id": "db4502fdd09e9b5f"
  },
  {
   "cell_type": "code",
   "outputs": [
    {
     "data": {
      "text/plain": "(tensor([[ 0.,  1.,  2.,  3.],\n         [ 4.,  5.,  6.,  7.],\n         [ 8.,  9., 10., 11.],\n         [12., 13., 14., 15.],\n         [16., 17., 18., 19.]]),\n tensor([[ 0.,  2.,  4.,  6.],\n         [ 8., 10., 12., 14.],\n         [16., 18., 20., 22.],\n         [24., 26., 28., 30.],\n         [32., 34., 36., 38.]]))"
     },
     "execution_count": 10,
     "metadata": {},
     "output_type": "execute_result"
    }
   ],
   "source": [
    "A = torch.arange(20, dtype=torch.float32).reshape(5, 4)\n",
    "B = A.clone()  # 通过分配新内存，将A的一个副本分配给B\n",
    "A, A + B"
   ],
   "metadata": {
    "collapsed": false,
    "ExecuteTime": {
     "end_time": "2024-04-03T09:12:03.087269Z",
     "start_time": "2024-04-03T09:12:03.079789Z"
    }
   },
   "id": "ba8a69b32d8d4c86",
   "execution_count": 10
  },
  {
   "cell_type": "markdown",
   "source": [
    "Hadamard积"
   ],
   "metadata": {
    "collapsed": false
   },
   "id": "d53c4709c1e1dc74"
  },
  {
   "cell_type": "code",
   "outputs": [
    {
     "data": {
      "text/plain": "tensor([[  0.,   1.,   4.,   9.],\n        [ 16.,  25.,  36.,  49.],\n        [ 64.,  81., 100., 121.],\n        [144., 169., 196., 225.],\n        [256., 289., 324., 361.]])"
     },
     "execution_count": 11,
     "metadata": {},
     "output_type": "execute_result"
    }
   ],
   "source": [
    "A*B"
   ],
   "metadata": {
    "collapsed": false,
    "ExecuteTime": {
     "end_time": "2024-04-03T09:12:03.092984Z",
     "start_time": "2024-04-03T09:12:03.088278Z"
    }
   },
   "id": "fab3ce961dcf0c2",
   "execution_count": 11
  },
  {
   "cell_type": "markdown",
   "source": [
    "降维"
   ],
   "metadata": {
    "collapsed": false
   },
   "id": "8bb9433a3ed68a61"
  },
  {
   "cell_type": "code",
   "outputs": [
    {
     "data": {
      "text/plain": "(tensor([0., 1., 2., 3.]), tensor(6.))"
     },
     "execution_count": 12,
     "metadata": {},
     "output_type": "execute_result"
    }
   ],
   "source": [
    "x = torch.arange(4, dtype=torch.float32)\n",
    "x, x.sum()"
   ],
   "metadata": {
    "collapsed": false,
    "ExecuteTime": {
     "end_time": "2024-04-03T09:12:03.100242Z",
     "start_time": "2024-04-03T09:12:03.093993Z"
    }
   },
   "id": "6bfe6453d5bcf011",
   "execution_count": 12
  },
  {
   "cell_type": "code",
   "outputs": [
    {
     "data": {
      "text/plain": "(torch.Size([5, 4]), tensor(190.))"
     },
     "execution_count": 13,
     "metadata": {},
     "output_type": "execute_result"
    }
   ],
   "source": [
    "A.shape, A.sum()"
   ],
   "metadata": {
    "collapsed": false,
    "ExecuteTime": {
     "end_time": "2024-04-03T09:12:03.107355Z",
     "start_time": "2024-04-03T09:12:03.101952Z"
    }
   },
   "id": "9614c1d90fafdc32",
   "execution_count": 13
  },
  {
   "cell_type": "markdown",
   "source": [
    "默认情况下，调用求和函数会沿所有的轴降低张量的维度，使它变为一个标量。 我们还可以指定张量沿哪一个轴来通过求和降低维度。 以矩阵为例，为了通过求和所有行的元素来降维（轴0），可以在调用函数时指定axis=0。 由于输入矩阵沿0轴降维以生成输出向量，因此输入轴0的维数在输出形状中消失。"
   ],
   "metadata": {
    "collapsed": false
   },
   "id": "f5dc06ae25fb2447"
  },
  {
   "cell_type": "code",
   "outputs": [
    {
     "name": "stdout",
     "output_type": "stream",
     "text": [
      "tensor([[ 0.,  1.,  2.,  3.],\n",
      "        [ 4.,  5.,  6.,  7.],\n",
      "        [ 8.,  9., 10., 11.],\n",
      "        [12., 13., 14., 15.],\n",
      "        [16., 17., 18., 19.]])\n"
     ]
    },
    {
     "data": {
      "text/plain": "(tensor([40., 45., 50., 55.]), torch.Size([4]))"
     },
     "execution_count": 14,
     "metadata": {},
     "output_type": "execute_result"
    }
   ],
   "source": [
    "print(A)\n",
    "A_sum_axis0=A.sum(axis=0)\n",
    "A_sum_axis0,A_sum_axis0.shape"
   ],
   "metadata": {
    "collapsed": false,
    "ExecuteTime": {
     "end_time": "2024-04-03T09:12:03.120455Z",
     "start_time": "2024-04-03T09:12:03.111437Z"
    }
   },
   "id": "7d5b0eec5497187a",
   "execution_count": 14
  },
  {
   "cell_type": "code",
   "outputs": [
    {
     "data": {
      "text/plain": "(tensor([ 6., 22., 38., 54., 70.]), torch.Size([5]))"
     },
     "execution_count": 15,
     "metadata": {},
     "output_type": "execute_result"
    }
   ],
   "source": [
    "A_sum_axis1 = A.sum(axis=1)\n",
    "A_sum_axis1, A_sum_axis1.shape"
   ],
   "metadata": {
    "collapsed": false,
    "ExecuteTime": {
     "end_time": "2024-04-03T09:12:03.126547Z",
     "start_time": "2024-04-03T09:12:03.121464Z"
    }
   },
   "id": "a2839f9f81611246",
   "execution_count": 15
  },
  {
   "cell_type": "code",
   "outputs": [
    {
     "data": {
      "text/plain": "tensor(190.)"
     },
     "execution_count": 16,
     "metadata": {},
     "output_type": "execute_result"
    }
   ],
   "source": [
    "A.sum(axis=[0, 1])  # 结果和A.sum()相同"
   ],
   "metadata": {
    "collapsed": false,
    "ExecuteTime": {
     "end_time": "2024-04-03T09:12:03.133114Z",
     "start_time": "2024-04-03T09:12:03.126547Z"
    }
   },
   "id": "58f2f92869cd57ce",
   "execution_count": 16
  },
  {
   "cell_type": "markdown",
   "source": [
    "一个与求和相关的量是平均值（mean或average）。 我们通过将总和除以元素总数来计算平均值。 在代码中，我们可以调用函数来计算任意形状张量的平均值。"
   ],
   "metadata": {
    "collapsed": false
   },
   "id": "75fa1878eb08daf0"
  },
  {
   "cell_type": "code",
   "outputs": [
    {
     "data": {
      "text/plain": "(tensor(9.5000), tensor(9.5000))"
     },
     "execution_count": 17,
     "metadata": {},
     "output_type": "execute_result"
    }
   ],
   "source": [
    "A.mean(),A.sum()/A.numel()"
   ],
   "metadata": {
    "collapsed": false,
    "ExecuteTime": {
     "end_time": "2024-04-03T09:12:03.140209Z",
     "start_time": "2024-04-03T09:12:03.134122Z"
    }
   },
   "id": "54221d4b8841e62f",
   "execution_count": 17
  },
  {
   "cell_type": "code",
   "outputs": [
    {
     "data": {
      "text/plain": "(tensor([ 8.,  9., 10., 11.]), tensor([ 8.,  9., 10., 11.]))"
     },
     "execution_count": 18,
     "metadata": {},
     "output_type": "execute_result"
    }
   ],
   "source": [
    "A.mean(axis=0), A.sum(axis=0) / A.shape[0]"
   ],
   "metadata": {
    "collapsed": false,
    "ExecuteTime": {
     "end_time": "2024-04-03T09:12:03.146840Z",
     "start_time": "2024-04-03T09:12:03.141217Z"
    }
   },
   "id": "2f72b05351563fd8",
   "execution_count": 18
  },
  {
   "cell_type": "markdown",
   "source": [
    "非降维求和 有时在调用函数来计算总和或均值时保持轴数不变会很有用。"
   ],
   "metadata": {
    "collapsed": false
   },
   "id": "ce06c3e2e56ea070"
  },
  {
   "cell_type": "code",
   "outputs": [
    {
     "data": {
      "text/plain": "tensor([[ 6.],\n        [22.],\n        [38.],\n        [54.],\n        [70.]])"
     },
     "execution_count": 19,
     "metadata": {},
     "output_type": "execute_result"
    }
   ],
   "source": [
    "sum_A = A.sum(axis=1, keepdims=True)\n",
    "sum_A"
   ],
   "metadata": {
    "collapsed": false,
    "ExecuteTime": {
     "end_time": "2024-04-03T09:12:03.153181Z",
     "start_time": "2024-04-03T09:12:03.148492Z"
    }
   },
   "id": "aea3ed94d1cd4d11",
   "execution_count": 19
  },
  {
   "cell_type": "code",
   "outputs": [
    {
     "data": {
      "text/plain": "tensor([[0.0000, 0.1667, 0.3333, 0.5000],\n        [0.1818, 0.2273, 0.2727, 0.3182],\n        [0.2105, 0.2368, 0.2632, 0.2895],\n        [0.2222, 0.2407, 0.2593, 0.2778],\n        [0.2286, 0.2429, 0.2571, 0.2714]])"
     },
     "execution_count": 20,
     "metadata": {},
     "output_type": "execute_result"
    }
   ],
   "source": [
    "A/sum_A "
   ],
   "metadata": {
    "collapsed": false,
    "ExecuteTime": {
     "end_time": "2024-04-03T09:12:03.158700Z",
     "start_time": "2024-04-03T09:12:03.154189Z"
    }
   },
   "id": "d15f8f4a75c9ebd6",
   "execution_count": 20
  },
  {
   "cell_type": "markdown",
   "source": [
    "cumsum按行计算累积和"
   ],
   "metadata": {
    "collapsed": false
   },
   "id": "e607b4a43ec90ef5"
  },
  {
   "cell_type": "code",
   "outputs": [
    {
     "data": {
      "text/plain": "tensor([[ 0.,  1.,  2.,  3.],\n        [ 4.,  6.,  8., 10.],\n        [12., 15., 18., 21.],\n        [24., 28., 32., 36.],\n        [40., 45., 50., 55.]])"
     },
     "execution_count": 21,
     "metadata": {},
     "output_type": "execute_result"
    }
   ],
   "source": [
    "A.cumsum(axis=0)"
   ],
   "metadata": {
    "collapsed": false,
    "ExecuteTime": {
     "end_time": "2024-04-03T09:12:03.165566Z",
     "start_time": "2024-04-03T09:12:03.159707Z"
    }
   },
   "id": "e3cbba4660e5ddb",
   "execution_count": 21
  },
  {
   "cell_type": "markdown",
   "source": [
    "点积"
   ],
   "metadata": {
    "collapsed": false
   },
   "id": "6ef06bf909943438"
  },
  {
   "cell_type": "code",
   "outputs": [
    {
     "data": {
      "text/plain": "(tensor([0., 1., 2., 3.]), tensor([1., 1., 1., 1.]), tensor(6.))"
     },
     "execution_count": 22,
     "metadata": {},
     "output_type": "execute_result"
    }
   ],
   "source": [
    "y = torch.ones(4, dtype = torch.float32)\n",
    "x, y, torch.dot(x, y)"
   ],
   "metadata": {
    "collapsed": false,
    "ExecuteTime": {
     "end_time": "2024-04-03T09:12:03.176494Z",
     "start_time": "2024-04-03T09:12:03.166574Z"
    }
   },
   "id": "4a8854c8dacf278d",
   "execution_count": 22
  },
  {
   "cell_type": "code",
   "outputs": [
    {
     "data": {
      "text/plain": "tensor(6.)"
     },
     "execution_count": 23,
     "metadata": {},
     "output_type": "execute_result"
    }
   ],
   "source": [
    "torch.sum(x*y)"
   ],
   "metadata": {
    "collapsed": false,
    "ExecuteTime": {
     "end_time": "2024-04-03T09:12:03.182837Z",
     "start_time": "2024-04-03T09:12:03.177502Z"
    }
   },
   "id": "97692bb1ca567132",
   "execution_count": 23
  },
  {
   "cell_type": "markdown",
   "source": [
    "当权重为非负数且和为1, 点积表示加权平均（weighted average）。 将两个向量规范化得到单位长度后，点积表示它们夹角的余弦。"
   ],
   "metadata": {
    "collapsed": false
   },
   "id": "cc1c99827a965236"
  },
  {
   "cell_type": "markdown",
   "source": [
    "矩阵-向量积\n",
    "在代码中使用张量表示矩阵-向量积，我们使用mv函数。 当我们为矩阵A和向量x调用torch.mv(A, x)时，会执行矩阵-向量积。 注意，A的列维数（沿轴1的长度）必须与x的维数（其长度）相同。"
   ],
   "metadata": {
    "collapsed": false
   },
   "id": "2281cafe1473225c"
  },
  {
   "cell_type": "code",
   "outputs": [
    {
     "data": {
      "text/plain": "(torch.Size([5, 4]), torch.Size([4]), tensor([ 14.,  38.,  62.,  86., 110.]))"
     },
     "execution_count": 24,
     "metadata": {},
     "output_type": "execute_result"
    }
   ],
   "source": [
    "A.shape, x.shape, torch.mv(A, x)"
   ],
   "metadata": {
    "collapsed": false,
    "ExecuteTime": {
     "end_time": "2024-04-03T09:12:03.190655Z",
     "start_time": "2024-04-03T09:12:03.183847Z"
    }
   },
   "id": "d68182b15431f188",
   "execution_count": 24
  },
  {
   "cell_type": "markdown",
   "source": [
    "矩阵矩阵乘法"
   ],
   "metadata": {
    "collapsed": false
   },
   "id": "bb9e444924bbeb0"
  },
  {
   "cell_type": "code",
   "outputs": [
    {
     "name": "stdout",
     "output_type": "stream",
     "text": [
      "tensor([[ 0.,  1.,  2.,  3.],\n",
      "        [ 4.,  5.,  6.,  7.],\n",
      "        [ 8.,  9., 10., 11.],\n",
      "        [12., 13., 14., 15.],\n",
      "        [16., 17., 18., 19.]])\n"
     ]
    },
    {
     "data": {
      "text/plain": "tensor([[ 6.,  6.,  6.],\n        [22., 22., 22.],\n        [38., 38., 38.],\n        [54., 54., 54.],\n        [70., 70., 70.]])"
     },
     "execution_count": 25,
     "metadata": {},
     "output_type": "execute_result"
    }
   ],
   "source": [
    "print(A)\n",
    "B = torch.ones(4, 3)\n",
    "torch.mm(A, B)"
   ],
   "metadata": {
    "collapsed": false,
    "ExecuteTime": {
     "end_time": "2024-04-03T09:12:03.201902Z",
     "start_time": "2024-04-03T09:12:03.191665Z"
    }
   },
   "id": "a5b486d8d3868f75",
   "execution_count": 25
  },
  {
   "cell_type": "markdown",
   "source": [
    "范数 norm"
   ],
   "metadata": {
    "collapsed": false
   },
   "id": "fbc9374a3383f6d8"
  },
  {
   "cell_type": "code",
   "outputs": [
    {
     "data": {
      "text/plain": "tensor(5.)"
     },
     "execution_count": 26,
     "metadata": {},
     "output_type": "execute_result"
    }
   ],
   "source": [
    "u=torch.tensor([3.0,-4.0])\n",
    "torch.norm(u)"
   ],
   "metadata": {
    "collapsed": false,
    "ExecuteTime": {
     "end_time": "2024-04-03T09:12:03.209204Z",
     "start_time": "2024-04-03T09:12:03.202912Z"
    }
   },
   "id": "99416c877f149869",
   "execution_count": 26
  },
  {
   "cell_type": "markdown",
   "source": [
    "L2 norm"
   ],
   "metadata": {
    "collapsed": false
   },
   "id": "34b6eecdc0f5fc6b"
  },
  {
   "cell_type": "markdown",
   "source": [
    "L1范数，它表示为向量元素的绝对值之和，与L2范数相比，\n",
    "L1范数受异常值的影响较小。 为了计算L1\n",
    "范数，我们将绝对值函数和按元素求和组合起来。"
   ],
   "metadata": {
    "collapsed": false
   },
   "id": "47eb9908225b2dac"
  },
  {
   "cell_type": "code",
   "outputs": [
    {
     "data": {
      "text/plain": "tensor(7.)"
     },
     "execution_count": 27,
     "metadata": {},
     "output_type": "execute_result"
    }
   ],
   "source": [
    "torch.abs(u).sum()\n"
   ],
   "metadata": {
    "collapsed": false,
    "ExecuteTime": {
     "end_time": "2024-04-03T09:12:03.216196Z",
     "start_time": "2024-04-03T09:12:03.210224Z"
    }
   },
   "id": "8882478b03d54799",
   "execution_count": 27
  },
  {
   "cell_type": "code",
   "outputs": [
    {
     "data": {
      "text/plain": "tensor(6.)"
     },
     "execution_count": 28,
     "metadata": {},
     "output_type": "execute_result"
    }
   ],
   "source": [
    "torch.ones((4,9))\n",
    "torch.norm(torch.ones((4,9)))"
   ],
   "metadata": {
    "collapsed": false,
    "ExecuteTime": {
     "end_time": "2024-04-03T09:12:03.221894Z",
     "start_time": "2024-04-03T09:12:03.217206Z"
    }
   },
   "id": "bcf35cdcd0ebb388",
   "execution_count": 28
  },
  {
   "cell_type": "markdown",
   "source": [
    "Frobenius范数（Frobenius norm）是矩阵元素平方和的平方根："
   ],
   "metadata": {
    "collapsed": false
   },
   "id": "23ce73779ec83d32"
  },
  {
   "cell_type": "markdown",
   "source": [
    "范数和目标\n",
    "在深度学习中，我们经常试图解决优化问题： 最大化分配给观测数据的概率; 最小化预测和真实观测之间的距离。 用向量表示物品（如单词、产品或新闻文章），以便最小化相似项目之间的距离，最大化不同项目之间的距离。 目标，或许是深度学习算法最重要的组成部分（除了数据），通常被表达为范数。\n",
    "\n"
   ],
   "metadata": {
    "collapsed": false
   },
   "id": "18a80f060fbd9a14"
  },
  {
   "cell_type": "code",
   "outputs": [],
   "source": [],
   "metadata": {
    "collapsed": false,
    "ExecuteTime": {
     "end_time": "2024-04-03T09:12:03.224825Z",
     "start_time": "2024-04-03T09:12:03.222903Z"
    }
   },
   "id": "32eb541e142c084e",
   "execution_count": 28
  }
 ],
 "metadata": {
  "kernelspec": {
   "display_name": "Python 3",
   "language": "python",
   "name": "python3"
  },
  "language_info": {
   "codemirror_mode": {
    "name": "ipython",
    "version": 2
   },
   "file_extension": ".py",
   "mimetype": "text/x-python",
   "name": "python",
   "nbconvert_exporter": "python",
   "pygments_lexer": "ipython2",
   "version": "2.7.6"
  }
 },
 "nbformat": 4,
 "nbformat_minor": 5
}
